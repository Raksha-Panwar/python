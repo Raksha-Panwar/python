{
 "cells": [
  {
   "cell_type": "markdown",
   "id": "9555e959",
   "metadata": {},
   "source": [
    "## 2# markdown "
   ]
  },
  {
   "cell_type": "markdown",
   "id": "e17591e3",
   "metadata": {},
   "source": [
    "### start basics (### write replace code with markdown)"
   ]
  },
  {
   "cell_type": "markdown",
   "id": "f4df48a5",
   "metadata": {},
   "source": [
    "#### again with 4#"
   ]
  },
  {
   "cell_type": "markdown",
   "id": "1fa605d1",
   "metadata": {},
   "source": [
    "##### 5#"
   ]
  },
  {
   "cell_type": "code",
   "execution_count": 8,
   "id": "644cc9d0",
   "metadata": {},
   "outputs": [],
   "source": [
    "#select -> A / B for insert above and below"
   ]
  },
  {
   "cell_type": "code",
   "execution_count": 1,
   "id": "28b24e37",
   "metadata": {
    "scrolled": true
   },
   "outputs": [
    {
     "name": "stdout",
     "output_type": "stream",
     "text": [
      "Hello World!\n"
     ]
    }
   ],
   "source": [
    "print(\"Hello World!\")"
   ]
  },
  {
   "cell_type": "code",
   "execution_count": null,
   "id": "4bc5fa08",
   "metadata": {},
   "outputs": [],
   "source": [
    "#select -> x to delete cell "
   ]
  },
  {
   "cell_type": "code",
   "execution_count": 4,
   "id": "f5ad0447",
   "metadata": {},
   "outputs": [
    {
     "name": "stdout",
     "output_type": "stream",
     "text": [
      "raksha panwar\n"
     ]
    }
   ],
   "source": [
    "#print name\n",
    "print(\"raksha panwar\")"
   ]
  },
  {
   "cell_type": "code",
   "execution_count": 5,
   "id": "493fe737",
   "metadata": {},
   "outputs": [
    {
     "name": "stdout",
     "output_type": "stream",
     "text": [
      "shift+enter\n"
     ]
    }
   ],
   "source": [
    "print(\"shift+enter\")"
   ]
  },
  {
   "cell_type": "code",
   "execution_count": 6,
   "id": "5229b40e",
   "metadata": {},
   "outputs": [
    {
     "name": "stdout",
     "output_type": "stream",
     "text": [
      "ds\n"
     ]
    }
   ],
   "source": [
    "#datascience\n",
    "print(\"ds\")"
   ]
  },
  {
   "cell_type": "markdown",
   "id": "5a58c4a9",
   "metadata": {},
   "source": [
    "## variables"
   ]
  },
  {
   "cell_type": "code",
   "execution_count": 11,
   "id": "38601b71",
   "metadata": {},
   "outputs": [],
   "source": [
    "name=\"raks\"\n",
    "age=24"
   ]
  },
  {
   "cell_type": "code",
   "execution_count": 12,
   "id": "ba845e63",
   "metadata": {},
   "outputs": [
    {
     "data": {
      "text/plain": [
       "24"
      ]
     },
     "execution_count": 12,
     "metadata": {},
     "output_type": "execute_result"
    }
   ],
   "source": [
    "name\n",
    "age\n"
   ]
  },
  {
   "cell_type": "markdown",
   "id": "58d22a48",
   "metadata": {},
   "source": [
    "print(name)\n",
    "print(age)"
   ]
  },
  {
   "cell_type": "code",
   "execution_count": 14,
   "id": "a78fdae7",
   "metadata": {},
   "outputs": [
    {
     "name": "stdout",
     "output_type": "stream",
     "text": [
      "raks 24\n"
     ]
    }
   ],
   "source": [
    "print(name,age)"
   ]
  },
  {
   "cell_type": "code",
   "execution_count": 16,
   "id": "111901e7",
   "metadata": {},
   "outputs": [
    {
     "data": {
      "text/plain": [
       "('raks', 'panwar')"
      ]
     },
     "execution_count": 16,
     "metadata": {},
     "output_type": "execute_result"
    }
   ],
   "source": [
    "name=\"raks\",\"panwar\"\n",
    "name"
   ]
  },
  {
   "cell_type": "markdown",
   "id": "b2a2be26",
   "metadata": {},
   "source": [
    "## space isn't allowed"
   ]
  },
  {
   "cell_type": "code",
   "execution_count": 17,
   "id": "f1bffe77",
   "metadata": {},
   "outputs": [
    {
     "ename": "SyntaxError",
     "evalue": "invalid syntax (113702940.py, line 1)",
     "output_type": "error",
     "traceback": [
      "\u001b[1;36m  Cell \u001b[1;32mIn[17], line 1\u001b[1;36m\u001b[0m\n\u001b[1;33m    my name=\"raks\",\"panwar\"\u001b[0m\n\u001b[1;37m       ^\u001b[0m\n\u001b[1;31mSyntaxError\u001b[0m\u001b[1;31m:\u001b[0m invalid syntax\n"
     ]
    }
   ],
   "source": [
    "my name=\"raks\",\"panwar\""
   ]
  },
  {
   "cell_type": "markdown",
   "id": "443e6144",
   "metadata": {},
   "source": [
    "## digits an't be in start"
   ]
  },
  {
   "cell_type": "code",
   "execution_count": 18,
   "id": "d1a71ad1",
   "metadata": {},
   "outputs": [
    {
     "ename": "SyntaxError",
     "evalue": "invalid decimal literal (1952479245.py, line 1)",
     "output_type": "error",
     "traceback": [
      "\u001b[1;36m  Cell \u001b[1;32mIn[18], line 1\u001b[1;36m\u001b[0m\n\u001b[1;33m    2name=\"raks\",\"panwar\"\u001b[0m\n\u001b[1;37m    ^\u001b[0m\n\u001b[1;31mSyntaxError\u001b[0m\u001b[1;31m:\u001b[0m invalid decimal literal\n"
     ]
    }
   ],
   "source": [
    "2name=\"raks\",\"panwar\""
   ]
  },
  {
   "cell_type": "code",
   "execution_count": 20,
   "id": "1eb4b1fc",
   "metadata": {},
   "outputs": [
    {
     "data": {
      "text/plain": [
       "('raks', 'panwar')"
      ]
     },
     "execution_count": 20,
     "metadata": {},
     "output_type": "execute_result"
    }
   ],
   "source": [
    "my2names=\"raks\",\"panwar\"\n",
    "my2names"
   ]
  },
  {
   "cell_type": "markdown",
   "id": "1517cdb8",
   "metadata": {},
   "source": [
    "## only underscore is allowed"
   ]
  },
  {
   "cell_type": "code",
   "execution_count": 21,
   "id": "66ac0482",
   "metadata": {},
   "outputs": [
    {
     "ename": "SyntaxError",
     "evalue": "cannot assign to expression here. Maybe you meant '==' instead of '='? (2312616300.py, line 1)",
     "output_type": "error",
     "traceback": [
      "\u001b[1;36m  Cell \u001b[1;32mIn[21], line 1\u001b[1;36m\u001b[0m\n\u001b[1;33m    my2+names=\"raks\",\"panwar\"\u001b[0m\n\u001b[1;37m    ^\u001b[0m\n\u001b[1;31mSyntaxError\u001b[0m\u001b[1;31m:\u001b[0m cannot assign to expression here. Maybe you meant '==' instead of '='?\n"
     ]
    }
   ],
   "source": [
    "my2+names=\"raks\",\"panwar\"\n",
    "my2+names"
   ]
  },
  {
   "cell_type": "code",
   "execution_count": 22,
   "id": "fd3de0f5",
   "metadata": {},
   "outputs": [
    {
     "data": {
      "text/plain": [
       "('raks', 'panwar')"
      ]
     },
     "execution_count": 22,
     "metadata": {},
     "output_type": "execute_result"
    }
   ],
   "source": [
    "my_2names=\"raks\",\"panwar\"\n",
    "my_2names"
   ]
  },
  {
   "cell_type": "code",
   "execution_count": 23,
   "id": "3f90755a",
   "metadata": {},
   "outputs": [
    {
     "data": {
      "text/plain": [
       "'rakspanwar'"
      ]
     },
     "execution_count": 23,
     "metadata": {},
     "output_type": "execute_result"
    }
   ],
   "source": [
    "my_2names=\"raks\"\"panwar\"\n",
    "my_2names"
   ]
  },
  {
   "cell_type": "code",
   "execution_count": 24,
   "id": "aa3be98c",
   "metadata": {},
   "outputs": [
    {
     "data": {
      "text/plain": [
       "'rakspanwar'"
      ]
     },
     "execution_count": 24,
     "metadata": {},
     "output_type": "execute_result"
    }
   ],
   "source": [
    "my_2names=\"raks\" \"panwar\"\n",
    "my_2names"
   ]
  },
  {
   "cell_type": "markdown",
   "id": "784298ab",
   "metadata": {},
   "source": [
    "## name before latest"
   ]
  },
  {
   "cell_type": "code",
   "execution_count": 26,
   "id": "303f89a8",
   "metadata": {},
   "outputs": [
    {
     "data": {
      "text/plain": [
       "'sita'"
      ]
     },
     "execution_count": 26,
     "metadata": {},
     "output_type": "execute_result"
    }
   ],
   "source": [
    "name=\"ram\"\n",
    "name=\"sita\"\n",
    "name"
   ]
  },
  {
   "cell_type": "markdown",
   "id": "de8ea84b",
   "metadata": {},
   "source": [
    "## multiple assignments"
   ]
  },
  {
   "cell_type": "code",
   "execution_count": 27,
   "id": "6840998b",
   "metadata": {},
   "outputs": [
    {
     "name": "stdout",
     "output_type": "stream",
     "text": [
      "15\n"
     ]
    }
   ],
   "source": [
    "x=y=z=15\n",
    "print(x)"
   ]
  },
  {
   "cell_type": "code",
   "execution_count": 28,
   "id": "cdf261a6",
   "metadata": {},
   "outputs": [
    {
     "ename": "SyntaxError",
     "evalue": "invalid syntax. Maybe you meant '==' or ':=' instead of '='? (3076561461.py, line 1)",
     "output_type": "error",
     "traceback": [
      "\u001b[1;36m  Cell \u001b[1;32mIn[28], line 1\u001b[1;36m\u001b[0m\n\u001b[1;33m    x=1,y=2,z=3\u001b[0m\n\u001b[1;37m    ^\u001b[0m\n\u001b[1;31mSyntaxError\u001b[0m\u001b[1;31m:\u001b[0m invalid syntax. Maybe you meant '==' or ':=' instead of '='?\n"
     ]
    }
   ],
   "source": [
    "x=1,y=2,z=3\n",
    "print(x)\n",
    "print(y)\n",
    "print(z)"
   ]
  },
  {
   "cell_type": "markdown",
   "id": "2b9a4a37",
   "metadata": {},
   "source": [
    "## assign different values"
   ]
  },
  {
   "cell_type": "code",
   "execution_count": 30,
   "id": "efd55248",
   "metadata": {},
   "outputs": [
    {
     "name": "stdout",
     "output_type": "stream",
     "text": [
      "1\n",
      "2\n",
      "3\n"
     ]
    }
   ],
   "source": [
    "x,y,z=1,2,3\n",
    "print(x)\n",
    "print(y)\n",
    "print(z)"
   ]
  },
  {
   "cell_type": "markdown",
   "id": "b55ab769",
   "metadata": {},
   "source": [
    "## datatype of variable"
   ]
  },
  {
   "cell_type": "code",
   "execution_count": 31,
   "id": "76cdf515",
   "metadata": {},
   "outputs": [
    {
     "data": {
      "text/plain": [
       "int"
      ]
     },
     "execution_count": 31,
     "metadata": {},
     "output_type": "execute_result"
    }
   ],
   "source": [
    "type(x)"
   ]
  },
  {
   "cell_type": "code",
   "execution_count": 32,
   "id": "43c2c53c",
   "metadata": {},
   "outputs": [
    {
     "data": {
      "text/plain": [
       "str"
      ]
     },
     "execution_count": 32,
     "metadata": {},
     "output_type": "execute_result"
    }
   ],
   "source": [
    "type(name)"
   ]
  },
  {
   "cell_type": "code",
   "execution_count": 34,
   "id": "98c58d14",
   "metadata": {},
   "outputs": [
    {
     "data": {
      "text/plain": [
       "str"
      ]
     },
     "execution_count": 34,
     "metadata": {},
     "output_type": "execute_result"
    }
   ],
   "source": [
    "type(my_2names)"
   ]
  },
  {
   "cell_type": "code",
   "execution_count": 35,
   "id": "55f3508e",
   "metadata": {},
   "outputs": [
    {
     "data": {
      "text/plain": [
       "float"
      ]
     },
     "execution_count": 35,
     "metadata": {},
     "output_type": "execute_result"
    }
   ],
   "source": [
    "type(10.5)"
   ]
  },
  {
   "cell_type": "code",
   "execution_count": 38,
   "id": "2a041bc1",
   "metadata": {},
   "outputs": [
    {
     "data": {
      "text/plain": [
       "bool"
      ]
     },
     "execution_count": 38,
     "metadata": {},
     "output_type": "execute_result"
    }
   ],
   "source": [
    "type(True)"
   ]
  },
  {
   "cell_type": "markdown",
   "id": "115b480b",
   "metadata": {},
   "source": [
    "### python is case-sensitive"
   ]
  },
  {
   "cell_type": "code",
   "execution_count": 39,
   "id": "5b3d94a1",
   "metadata": {},
   "outputs": [
    {
     "ename": "NameError",
     "evalue": "name 'Name' is not defined",
     "output_type": "error",
     "traceback": [
      "\u001b[1;31m---------------------------------------------------------------------------\u001b[0m",
      "\u001b[1;31mNameError\u001b[0m                                 Traceback (most recent call last)",
      "Cell \u001b[1;32mIn[39], line 1\u001b[0m\n\u001b[1;32m----> 1\u001b[0m \u001b[38;5;28mtype\u001b[39m(\u001b[43mName\u001b[49m)\n",
      "\u001b[1;31mNameError\u001b[0m: name 'Name' is not defined"
     ]
    }
   ],
   "source": [
    "type(Name)"
   ]
  },
  {
   "cell_type": "markdown",
   "id": "9ffba8c9",
   "metadata": {},
   "source": []
  },
  {
   "cell_type": "markdown",
   "id": "63408061",
   "metadata": {},
   "source": [
    "## implicit type conversion"
   ]
  },
  {
   "cell_type": "code",
   "execution_count": 2,
   "id": "d16f4f8f",
   "metadata": {},
   "outputs": [
    {
     "data": {
      "text/plain": [
       "2.0"
      ]
     },
     "execution_count": 2,
     "metadata": {},
     "output_type": "execute_result"
    }
   ],
   "source": [
    "r=10/5\n",
    "r"
   ]
  },
  {
   "cell_type": "markdown",
   "id": "babfcfa2",
   "metadata": {},
   "source": [
    "## explicit type conversion"
   ]
  },
  {
   "cell_type": "code",
   "execution_count": 4,
   "id": "90d86bac",
   "metadata": {},
   "outputs": [
    {
     "data": {
      "text/plain": [
       "2"
      ]
     },
     "execution_count": 4,
     "metadata": {},
     "output_type": "execute_result"
    }
   ],
   "source": [
    "res=int(10/5)\n",
    "res"
   ]
  },
  {
   "cell_type": "code",
   "execution_count": 8,
   "id": "7fa82da3",
   "metadata": {},
   "outputs": [
    {
     "data": {
      "text/plain": [
       "'st1st2'"
      ]
     },
     "execution_count": 8,
     "metadata": {},
     "output_type": "execute_result"
    }
   ],
   "source": [
    "x=\"st1\"\n",
    "y='st2'\n",
    "z=x+y\n",
    "z"
   ]
  },
  {
   "cell_type": "code",
   "execution_count": 9,
   "id": "47fd7799",
   "metadata": {},
   "outputs": [
    {
     "data": {
      "text/plain": [
       "'10.45.2'"
      ]
     },
     "execution_count": 9,
     "metadata": {},
     "output_type": "execute_result"
    }
   ],
   "source": [
    "x=\"10.4\"\n",
    "y='5.2'\n",
    "z=x+y\n",
    "z"
   ]
  },
  {
   "cell_type": "markdown",
   "id": "3885777d",
   "metadata": {},
   "source": [
    "## different data types won't catenate"
   ]
  },
  {
   "cell_type": "code",
   "execution_count": 6,
   "id": "3cc897bf",
   "metadata": {},
   "outputs": [
    {
     "ename": "TypeError",
     "evalue": "can only concatenate str (not \"float\") to str",
     "output_type": "error",
     "traceback": [
      "\u001b[1;31m---------------------------------------------------------------------------\u001b[0m",
      "\u001b[1;31mTypeError\u001b[0m                                 Traceback (most recent call last)",
      "Cell \u001b[1;32mIn[6], line 3\u001b[0m\n\u001b[0;32m      1\u001b[0m x\u001b[38;5;241m=\u001b[39m\u001b[38;5;124m\"\u001b[39m\u001b[38;5;124m10\u001b[39m\u001b[38;5;124m\"\u001b[39m\n\u001b[0;32m      2\u001b[0m y\u001b[38;5;241m=\u001b[39m\u001b[38;5;241m5.3\u001b[39m\n\u001b[1;32m----> 3\u001b[0m z\u001b[38;5;241m=\u001b[39m\u001b[43mx\u001b[49m\u001b[38;5;241;43m+\u001b[39;49m\u001b[43my\u001b[49m\n\u001b[0;32m      4\u001b[0m z\n",
      "\u001b[1;31mTypeError\u001b[0m: can only concatenate str (not \"float\") to str"
     ]
    }
   ],
   "source": [
    "x=\"10\"\n",
    "y=5.3\n",
    "z=x+y\n",
    "z"
   ]
  },
  {
   "cell_type": "code",
   "execution_count": 10,
   "id": "2710412e",
   "metadata": {},
   "outputs": [
    {
     "data": {
      "text/plain": [
       "'105.3'"
      ]
     },
     "execution_count": 10,
     "metadata": {},
     "output_type": "execute_result"
    }
   ],
   "source": [
    "x=\"10\"\n",
    "y=str(5.3)\n",
    "z=x+y\n",
    "z"
   ]
  },
  {
   "cell_type": "code",
   "execution_count": 11,
   "id": "c478b175",
   "metadata": {},
   "outputs": [
    {
     "data": {
      "text/plain": [
       "'10.75.3'"
      ]
     },
     "execution_count": 11,
     "metadata": {},
     "output_type": "execute_result"
    }
   ],
   "source": [
    "x=\"10.7\"\n",
    "y=str(5.3)\n",
    "z=x+y\n",
    "z"
   ]
  },
  {
   "cell_type": "markdown",
   "id": "ac45b003",
   "metadata": {},
   "source": [
    "## explicit conversion can be done"
   ]
  },
  {
   "cell_type": "code",
   "execution_count": 7,
   "id": "c152ebaa",
   "metadata": {},
   "outputs": [
    {
     "data": {
      "text/plain": [
       "15.3"
      ]
     },
     "execution_count": 7,
     "metadata": {},
     "output_type": "execute_result"
    }
   ],
   "source": [
    "x=int(\"10\")\n",
    "y=5.3\n",
    "z=x+y\n",
    "z"
   ]
  },
  {
   "cell_type": "code",
   "execution_count": 13,
   "id": "696d42f9",
   "metadata": {},
   "outputs": [
    {
     "ename": "ValueError",
     "evalue": "invalid literal for int() with base 10: 'hi'",
     "output_type": "error",
     "traceback": [
      "\u001b[1;31m---------------------------------------------------------------------------\u001b[0m",
      "\u001b[1;31mValueError\u001b[0m                                Traceback (most recent call last)",
      "Cell \u001b[1;32mIn[13], line 1\u001b[0m\n\u001b[1;32m----> 1\u001b[0m x\u001b[38;5;241m=\u001b[39m\u001b[38;5;28;43mint\u001b[39;49m\u001b[43m(\u001b[49m\u001b[38;5;124;43m\"\u001b[39;49m\u001b[38;5;124;43mhi\u001b[39;49m\u001b[38;5;124;43m\"\u001b[39;49m\u001b[43m)\u001b[49m\n\u001b[0;32m      2\u001b[0m x\n",
      "\u001b[1;31mValueError\u001b[0m: invalid literal for int() with base 10: 'hi'"
     ]
    }
   ],
   "source": [
    "x=int(\"hi\")\n",
    "x"
   ]
  },
  {
   "cell_type": "code",
   "execution_count": 14,
   "id": "dbc6b159",
   "metadata": {},
   "outputs": [
    {
     "ename": "ValueError",
     "evalue": "could not convert string to float: 'hi'",
     "output_type": "error",
     "traceback": [
      "\u001b[1;31m---------------------------------------------------------------------------\u001b[0m",
      "\u001b[1;31mValueError\u001b[0m                                Traceback (most recent call last)",
      "Cell \u001b[1;32mIn[14], line 1\u001b[0m\n\u001b[1;32m----> 1\u001b[0m x\u001b[38;5;241m=\u001b[39m\u001b[38;5;28;43mfloat\u001b[39;49m\u001b[43m(\u001b[49m\u001b[38;5;124;43m\"\u001b[39;49m\u001b[38;5;124;43mhi\u001b[39;49m\u001b[38;5;124;43m\"\u001b[39;49m\u001b[43m)\u001b[49m\n\u001b[0;32m      2\u001b[0m x\n",
      "\u001b[1;31mValueError\u001b[0m: could not convert string to float: 'hi'"
     ]
    }
   ],
   "source": [
    "x=float(\"hi\")\n",
    "x"
   ]
  },
  {
   "cell_type": "code",
   "execution_count": null,
   "id": "f7290375",
   "metadata": {},
   "outputs": [],
   "source": []
  }
 ],
 "metadata": {
  "kernelspec": {
   "display_name": "Python 3 (ipykernel)",
   "language": "python",
   "name": "python3"
  },
  "language_info": {
   "codemirror_mode": {
    "name": "ipython",
    "version": 3
   },
   "file_extension": ".py",
   "mimetype": "text/x-python",
   "name": "python",
   "nbconvert_exporter": "python",
   "pygments_lexer": "ipython3",
   "version": "3.10.9"
  }
 },
 "nbformat": 4,
 "nbformat_minor": 5
}
