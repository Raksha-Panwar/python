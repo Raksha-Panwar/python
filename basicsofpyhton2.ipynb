{
 "cells": [
  {
   "cell_type": "code",
   "execution_count": 1,
   "id": "f03fa98c",
   "metadata": {},
   "outputs": [
    {
     "name": "stdout",
     "output_type": "stream",
     "text": [
      "pythonis fun\n"
     ]
    }
   ],
   "source": [
    "print('python' + 'is fun')"
   ]
  },
  {
   "cell_type": "markdown",
   "id": "5018fd1c",
   "metadata": {},
   "source": [
    "## types of operators"
   ]
  },
  {
   "cell_type": "markdown",
   "id": "3ccbd8ff",
   "metadata": {},
   "source": [
    "#### arithmetic: "
   ]
  },
  {
   "cell_type": "code",
   "execution_count": 6,
   "id": "2ad0b301",
   "metadata": {},
   "outputs": [],
   "source": [
    "\n",
    "# addition + \n",
    "# subtraction -\n",
    "# multiplication *\n",
    "# division / returns quotient in float\n",
    "# modulus % returns remainder else returns numerator\n",
    "# floor division // returns int quotient if num > deno else returns numerator\n",
    "# exponential ** x pow y \n",
    "    "
   ]
  },
  {
   "cell_type": "code",
   "execution_count": 8,
   "id": "510d1c22",
   "metadata": {},
   "outputs": [
    {
     "data": {
      "text/plain": [
       "'strstrstr'"
      ]
     },
     "execution_count": 8,
     "metadata": {},
     "output_type": "execute_result"
    }
   ],
   "source": [
    "'str'*3 "
   ]
  },
  {
   "cell_type": "code",
   "execution_count": 9,
   "id": "146d7700",
   "metadata": {},
   "outputs": [
    {
     "ename": "NameError",
     "evalue": "name 'st' is not defined",
     "output_type": "error",
     "traceback": [
      "\u001b[1;31m---------------------------------------------------------------------------\u001b[0m",
      "\u001b[1;31mNameError\u001b[0m                                 Traceback (most recent call last)",
      "Cell \u001b[1;32mIn[9], line 1\u001b[0m\n\u001b[1;32m----> 1\u001b[0m \u001b[38;5;28mstr\u001b[39m\u001b[38;5;241m-\u001b[39m\u001b[43mst\u001b[49m\n",
      "\u001b[1;31mNameError\u001b[0m: name 'st' is not defined"
     ]
    }
   ],
   "source": [
    "str-st"
   ]
  },
  {
   "cell_type": "code",
   "execution_count": 11,
   "id": "872b4bbb",
   "metadata": {},
   "outputs": [
    {
     "data": {
      "text/plain": [
       "'string'"
      ]
     },
     "execution_count": 11,
     "metadata": {},
     "output_type": "execute_result"
    }
   ],
   "source": [
    "'str'+'ing'"
   ]
  },
  {
   "cell_type": "code",
   "execution_count": 12,
   "id": "e0d9c93f",
   "metadata": {},
   "outputs": [
    {
     "ename": "TypeError",
     "evalue": "unsupported operand type(s) for /: 'str' and 'str'",
     "output_type": "error",
     "traceback": [
      "\u001b[1;31m---------------------------------------------------------------------------\u001b[0m",
      "\u001b[1;31mTypeError\u001b[0m                                 Traceback (most recent call last)",
      "Cell \u001b[1;32mIn[12], line 1\u001b[0m\n\u001b[1;32m----> 1\u001b[0m \u001b[38;5;124;43m'\u001b[39;49m\u001b[38;5;124;43mstr\u001b[39;49m\u001b[38;5;124;43m'\u001b[39;49m\u001b[38;5;241;43m/\u001b[39;49m\u001b[38;5;124;43m'\u001b[39;49m\u001b[38;5;124;43mst\u001b[39;49m\u001b[38;5;124;43m'\u001b[39;49m\n",
      "\u001b[1;31mTypeError\u001b[0m: unsupported operand type(s) for /: 'str' and 'str'"
     ]
    }
   ],
   "source": [
    "'str'/'st'"
   ]
  },
  {
   "cell_type": "code",
   "execution_count": 14,
   "id": "64fdbe49",
   "metadata": {},
   "outputs": [
    {
     "data": {
      "text/plain": [
       "6"
      ]
     },
     "execution_count": 14,
     "metadata": {},
     "output_type": "execute_result"
    }
   ],
   "source": [
    "27//4\n"
   ]
  },
  {
   "cell_type": "code",
   "execution_count": 15,
   "id": "86989ac6",
   "metadata": {},
   "outputs": [
    {
     "data": {
      "text/plain": [
       "0"
      ]
     },
     "execution_count": 15,
     "metadata": {},
     "output_type": "execute_result"
    }
   ],
   "source": [
    "4//27"
   ]
  },
  {
   "cell_type": "code",
   "execution_count": 16,
   "id": "05a5836f",
   "metadata": {},
   "outputs": [
    {
     "data": {
      "text/plain": [
       "3"
      ]
     },
     "execution_count": 16,
     "metadata": {},
     "output_type": "execute_result"
    }
   ],
   "source": [
    "27%4"
   ]
  },
  {
   "cell_type": "code",
   "execution_count": 17,
   "id": "e42e9cba",
   "metadata": {},
   "outputs": [
    {
     "data": {
      "text/plain": [
       "4"
      ]
     },
     "execution_count": 17,
     "metadata": {},
     "output_type": "execute_result"
    }
   ],
   "source": [
    "4%27"
   ]
  },
  {
   "cell_type": "code",
   "execution_count": 19,
   "id": "884283c4",
   "metadata": {},
   "outputs": [
    {
     "data": {
      "text/plain": [
       "343"
      ]
     },
     "execution_count": 19,
     "metadata": {},
     "output_type": "execute_result"
    }
   ],
   "source": [
    "7**3"
   ]
  },
  {
   "cell_type": "code",
   "execution_count": 20,
   "id": "da05786d",
   "metadata": {},
   "outputs": [
    {
     "data": {
      "text/plain": [
       "6.75"
      ]
     },
     "execution_count": 20,
     "metadata": {},
     "output_type": "execute_result"
    }
   ],
   "source": [
    "27/4"
   ]
  },
  {
   "cell_type": "code",
   "execution_count": 21,
   "id": "3852308b",
   "metadata": {},
   "outputs": [
    {
     "data": {
      "text/plain": [
       "0.14814814814814814"
      ]
     },
     "execution_count": 21,
     "metadata": {},
     "output_type": "execute_result"
    }
   ],
   "source": [
    "4/27"
   ]
  },
  {
   "cell_type": "markdown",
   "id": "4ebf3dd0",
   "metadata": {},
   "source": [
    "#### relational operator"
   ]
  },
  {
   "cell_type": "code",
   "execution_count": 5,
   "id": "4868634c",
   "metadata": {},
   "outputs": [],
   "source": [
    " # >\n",
    " # < \n",
    " # <= \n",
    " #  >= \n",
    " #  == \n",
    " # !=    "
   ]
  },
  {
   "cell_type": "code",
   "execution_count": 23,
   "id": "d417514d",
   "metadata": {},
   "outputs": [
    {
     "data": {
      "text/plain": [
       "False"
      ]
     },
     "execution_count": 23,
     "metadata": {},
     "output_type": "execute_result"
    }
   ],
   "source": [
    "25>30\n"
   ]
  },
  {
   "cell_type": "code",
   "execution_count": 24,
   "id": "dc4e3eed",
   "metadata": {},
   "outputs": [
    {
     "data": {
      "text/plain": [
       "True"
      ]
     },
     "execution_count": 24,
     "metadata": {},
     "output_type": "execute_result"
    }
   ],
   "source": [
    "30<45"
   ]
  },
  {
   "cell_type": "code",
   "execution_count": 25,
   "id": "3da148ab",
   "metadata": {},
   "outputs": [
    {
     "data": {
      "text/plain": [
       "True"
      ]
     },
     "execution_count": 25,
     "metadata": {},
     "output_type": "execute_result"
    }
   ],
   "source": [
    "35==35"
   ]
  },
  {
   "cell_type": "code",
   "execution_count": 26,
   "id": "5044d63c",
   "metadata": {},
   "outputs": [
    {
     "data": {
      "text/plain": [
       "False"
      ]
     },
     "execution_count": 26,
     "metadata": {},
     "output_type": "execute_result"
    }
   ],
   "source": [
    "35!=35"
   ]
  },
  {
   "cell_type": "code",
   "execution_count": 29,
   "id": "0ddf47ce",
   "metadata": {},
   "outputs": [
    {
     "data": {
      "text/plain": [
       "True"
      ]
     },
     "execution_count": 29,
     "metadata": {},
     "output_type": "execute_result"
    }
   ],
   "source": [
    "35!=25"
   ]
  },
  {
   "cell_type": "code",
   "execution_count": 27,
   "id": "fece793a",
   "metadata": {},
   "outputs": [
    {
     "data": {
      "text/plain": [
       "True"
      ]
     },
     "execution_count": 27,
     "metadata": {},
     "output_type": "execute_result"
    }
   ],
   "source": [
    "25>=25"
   ]
  },
  {
   "cell_type": "code",
   "execution_count": 28,
   "id": "18d24664",
   "metadata": {},
   "outputs": [
    {
     "data": {
      "text/plain": [
       "True"
      ]
     },
     "execution_count": 28,
     "metadata": {},
     "output_type": "execute_result"
    }
   ],
   "source": [
    "26<=26"
   ]
  },
  {
   "cell_type": "markdown",
   "id": "bfbdf41b",
   "metadata": {},
   "source": [
    "#### logical operator"
   ]
  },
  {
   "cell_type": "code",
   "execution_count": 46,
   "id": "9dc13f14",
   "metadata": {},
   "outputs": [],
   "source": [
    "# 1=True 0=False\n",
    "# and (mult) 1*1=1 1*0=0 0*0=0  \n",
    "# or (add) 1+1=1 1+0=1 0+0=0\n",
    "# not 1=>0 0=>1"
   ]
  },
  {
   "cell_type": "code",
   "execution_count": 33,
   "id": "41e8eedf",
   "metadata": {},
   "outputs": [
    {
     "data": {
      "text/plain": [
       "1"
      ]
     },
     "execution_count": 33,
     "metadata": {},
     "output_type": "execute_result"
    }
   ],
   "source": [
    "1 and 1"
   ]
  },
  {
   "cell_type": "code",
   "execution_count": 34,
   "id": "11bc4d63",
   "metadata": {},
   "outputs": [
    {
     "data": {
      "text/plain": [
       "0"
      ]
     },
     "execution_count": 34,
     "metadata": {},
     "output_type": "execute_result"
    }
   ],
   "source": [
    "1 and 0"
   ]
  },
  {
   "cell_type": "code",
   "execution_count": 43,
   "id": "ad82e434",
   "metadata": {},
   "outputs": [
    {
     "data": {
      "text/plain": [
       "0"
      ]
     },
     "execution_count": 43,
     "metadata": {},
     "output_type": "execute_result"
    }
   ],
   "source": [
    "0 and 1"
   ]
  },
  {
   "cell_type": "code",
   "execution_count": 35,
   "id": "822ee577",
   "metadata": {},
   "outputs": [
    {
     "data": {
      "text/plain": [
       "0"
      ]
     },
     "execution_count": 35,
     "metadata": {},
     "output_type": "execute_result"
    }
   ],
   "source": [
    "0 and 0"
   ]
  },
  {
   "cell_type": "code",
   "execution_count": 36,
   "id": "20dc460d",
   "metadata": {},
   "outputs": [
    {
     "data": {
      "text/plain": [
       "1"
      ]
     },
     "execution_count": 36,
     "metadata": {},
     "output_type": "execute_result"
    }
   ],
   "source": [
    "1 or 1"
   ]
  },
  {
   "cell_type": "code",
   "execution_count": 37,
   "id": "661ec262",
   "metadata": {},
   "outputs": [
    {
     "data": {
      "text/plain": [
       "1"
      ]
     },
     "execution_count": 37,
     "metadata": {},
     "output_type": "execute_result"
    }
   ],
   "source": [
    "1 or 0"
   ]
  },
  {
   "cell_type": "code",
   "execution_count": 44,
   "id": "3b7ade0e",
   "metadata": {},
   "outputs": [
    {
     "data": {
      "text/plain": [
       "1"
      ]
     },
     "execution_count": 44,
     "metadata": {},
     "output_type": "execute_result"
    }
   ],
   "source": [
    "0 or 1"
   ]
  },
  {
   "cell_type": "code",
   "execution_count": 38,
   "id": "4f282ebe",
   "metadata": {},
   "outputs": [
    {
     "data": {
      "text/plain": [
       "0"
      ]
     },
     "execution_count": 38,
     "metadata": {},
     "output_type": "execute_result"
    }
   ],
   "source": [
    "0 or 0"
   ]
  },
  {
   "cell_type": "code",
   "execution_count": 41,
   "id": "dbd1d8db",
   "metadata": {
    "scrolled": true
   },
   "outputs": [
    {
     "data": {
      "text/plain": [
       "True"
      ]
     },
     "execution_count": 41,
     "metadata": {},
     "output_type": "execute_result"
    }
   ],
   "source": [
    "not 0"
   ]
  },
  {
   "cell_type": "code",
   "execution_count": 42,
   "id": "90873746",
   "metadata": {},
   "outputs": [
    {
     "data": {
      "text/plain": [
       "False"
      ]
     },
     "execution_count": 42,
     "metadata": {},
     "output_type": "execute_result"
    }
   ],
   "source": [
    "not 1"
   ]
  },
  {
   "cell_type": "markdown",
   "id": "d78e80a6",
   "metadata": {},
   "source": [
    "#### membership operator"
   ]
  },
  {
   "cell_type": "code",
   "execution_count": 49,
   "id": "bbbab83a",
   "metadata": {},
   "outputs": [
    {
     "data": {
      "text/plain": [
       "True"
      ]
     },
     "execution_count": 49,
     "metadata": {},
     "output_type": "execute_result"
    }
   ],
   "source": [
    "'a' in \"aeiou\""
   ]
  },
  {
   "cell_type": "code",
   "execution_count": 52,
   "id": "186bf890",
   "metadata": {},
   "outputs": [
    {
     "data": {
      "text/plain": [
       "False"
      ]
     },
     "execution_count": 52,
     "metadata": {},
     "output_type": "execute_result"
    }
   ],
   "source": [
    "'a' not in \"aeiou\""
   ]
  },
  {
   "cell_type": "code",
   "execution_count": 50,
   "id": "7004d3ce",
   "metadata": {},
   "outputs": [
    {
     "data": {
      "text/plain": [
       "False"
      ]
     },
     "execution_count": 50,
     "metadata": {},
     "output_type": "execute_result"
    }
   ],
   "source": [
    "'b' in 'aeiou'"
   ]
  },
  {
   "cell_type": "code",
   "execution_count": 51,
   "id": "66c7f757",
   "metadata": {},
   "outputs": [
    {
     "data": {
      "text/plain": [
       "True"
      ]
     },
     "execution_count": 51,
     "metadata": {},
     "output_type": "execute_result"
    }
   ],
   "source": [
    "'b' not in 'aeiou'"
   ]
  },
  {
   "cell_type": "markdown",
   "id": "865a868a",
   "metadata": {},
   "source": [
    "#### assignment operator"
   ]
  },
  {
   "cell_type": "code",
   "execution_count": 54,
   "id": "89d3ec0c",
   "metadata": {},
   "outputs": [
    {
     "data": {
      "text/plain": [
       "5"
      ]
     },
     "execution_count": 54,
     "metadata": {},
     "output_type": "execute_result"
    }
   ],
   "source": [
    "a=5\n",
    "a"
   ]
  },
  {
   "cell_type": "code",
   "execution_count": 55,
   "id": "d37a3097",
   "metadata": {},
   "outputs": [
    {
     "data": {
      "text/plain": [
       "7"
      ]
     },
     "execution_count": 55,
     "metadata": {},
     "output_type": "execute_result"
    }
   ],
   "source": [
    "b=7\n",
    "a=b\n",
    "a"
   ]
  },
  {
   "cell_type": "code",
   "execution_count": 56,
   "id": "d52be339",
   "metadata": {},
   "outputs": [
    {
     "data": {
      "text/plain": [
       "13"
      ]
     },
     "execution_count": 56,
     "metadata": {},
     "output_type": "execute_result"
    }
   ],
   "source": [
    "b=7\n",
    "a=6\n",
    "a+=b\n",
    "a"
   ]
  },
  {
   "cell_type": "code",
   "execution_count": 57,
   "id": "3a2cbc75",
   "metadata": {},
   "outputs": [
    {
     "data": {
      "text/plain": [
       "-1"
      ]
     },
     "execution_count": 57,
     "metadata": {},
     "output_type": "execute_result"
    }
   ],
   "source": [
    "b=7\n",
    "a=6\n",
    "a-=b\n",
    "a"
   ]
  },
  {
   "cell_type": "code",
   "execution_count": 58,
   "id": "3d50afbf",
   "metadata": {},
   "outputs": [
    {
     "data": {
      "text/plain": [
       "42"
      ]
     },
     "execution_count": 58,
     "metadata": {},
     "output_type": "execute_result"
    }
   ],
   "source": [
    "b=7\n",
    "a=6\n",
    "a*=b\n",
    "a"
   ]
  },
  {
   "cell_type": "code",
   "execution_count": 59,
   "id": "56841727",
   "metadata": {},
   "outputs": [
    {
     "data": {
      "text/plain": [
       "0.8571428571428571"
      ]
     },
     "execution_count": 59,
     "metadata": {},
     "output_type": "execute_result"
    }
   ],
   "source": [
    "b=7\n",
    "a=6\n",
    "a/=b\n",
    "a"
   ]
  },
  {
   "cell_type": "code",
   "execution_count": 64,
   "id": "4b639c81",
   "metadata": {},
   "outputs": [
    {
     "data": {
      "text/plain": [
       "3.7142857142857144"
      ]
     },
     "execution_count": 64,
     "metadata": {},
     "output_type": "execute_result"
    }
   ],
   "source": [
    "b=7\n",
    "a=26\n",
    "a/=b\n",
    "a"
   ]
  },
  {
   "cell_type": "code",
   "execution_count": 60,
   "id": "d8183b7b",
   "metadata": {},
   "outputs": [
    {
     "data": {
      "text/plain": [
       "6"
      ]
     },
     "execution_count": 60,
     "metadata": {},
     "output_type": "execute_result"
    }
   ],
   "source": [
    "b=7\n",
    "a=6\n",
    "a%=b\n",
    "a"
   ]
  },
  {
   "cell_type": "code",
   "execution_count": 61,
   "id": "48185014",
   "metadata": {},
   "outputs": [
    {
     "data": {
      "text/plain": [
       "0"
      ]
     },
     "execution_count": 61,
     "metadata": {},
     "output_type": "execute_result"
    }
   ],
   "source": [
    "b=7\n",
    "a=6\n",
    "a//=b\n",
    "a"
   ]
  },
  {
   "cell_type": "code",
   "execution_count": 63,
   "id": "ddb6fa04",
   "metadata": {},
   "outputs": [
    {
     "data": {
      "text/plain": [
       "64"
      ]
     },
     "execution_count": 63,
     "metadata": {},
     "output_type": "execute_result"
    }
   ],
   "source": [
    "b=6\n",
    "a=2\n",
    "a**=b\n",
    "a"
   ]
  },
  {
   "cell_type": "markdown",
   "id": "0fa23ac6",
   "metadata": {},
   "source": [
    "#### conditional operator"
   ]
  },
  {
   "cell_type": "code",
   "execution_count": 65,
   "id": "721326e5",
   "metadata": {},
   "outputs": [
    {
     "name": "stdout",
     "output_type": "stream",
     "text": [
      "5\n"
     ]
    }
   ],
   "source": [
    "if (5>4):\n",
    "    print(5)\n",
    "\n"
   ]
  },
  {
   "cell_type": "code",
   "execution_count": 66,
   "id": "6eac325d",
   "metadata": {},
   "outputs": [],
   "source": [
    "if (5>14):\n",
    "    print(5)"
   ]
  },
  {
   "cell_type": "code",
   "execution_count": 67,
   "id": "58502367",
   "metadata": {},
   "outputs": [
    {
     "name": "stdout",
     "output_type": "stream",
     "text": [
      "14\n"
     ]
    }
   ],
   "source": [
    "if (5>14):\n",
    "    print(5)\n",
    "else:\n",
    "    print(14)"
   ]
  },
  {
   "cell_type": "code",
   "execution_count": 71,
   "id": "24a9c7b2",
   "metadata": {},
   "outputs": [
    {
     "name": "stdout",
     "output_type": "stream",
     "text": [
      "14\n"
     ]
    }
   ],
   "source": [
    "if (5>14):\n",
    "    print(5)\n",
    "elif (5<14):\n",
    "    print(14)\n",
    "else:\n",
    "    print(\"=\")"
   ]
  },
  {
   "cell_type": "code",
   "execution_count": 72,
   "id": "4675834b",
   "metadata": {},
   "outputs": [
    {
     "name": "stdout",
     "output_type": "stream",
     "text": [
      "=\n"
     ]
    }
   ],
   "source": [
    "if (15>15):\n",
    "    print(5)\n",
    "elif (15<15):\n",
    "    print(14)\n",
    "else:\n",
    "    print(\"=\")"
   ]
  },
  {
   "cell_type": "code",
   "execution_count": 73,
   "id": "63e6841b",
   "metadata": {},
   "outputs": [
    {
     "name": "stdout",
     "output_type": "stream",
     "text": [
      "enter a number3\n"
     ]
    },
    {
     "data": {
      "text/plain": [
       "3"
      ]
     },
     "execution_count": 73,
     "metadata": {},
     "output_type": "execute_result"
    }
   ],
   "source": [
    "age=int(input('enter a number'))\n",
    "age"
   ]
  },
  {
   "cell_type": "code",
   "execution_count": 77,
   "id": "f3a79837",
   "metadata": {},
   "outputs": [
    {
     "name": "stdout",
     "output_type": "stream",
     "text": [
      "enter a number10\n",
      "6Rs\n"
     ]
    }
   ],
   "source": [
    "age=int(input('enter a number'))\n",
    "if(0<age<3):\n",
    "    print('no fare')\n",
    "elif(3<age<10):\n",
    "    print('5Rs')\n",
    "elif(10<age<18):\n",
    "    print('10Rs')\n",
    "else:\n",
    "    print(\"6Rs\")"
   ]
  },
  {
   "cell_type": "code",
   "execution_count": 78,
   "id": "c264c325",
   "metadata": {},
   "outputs": [
    {
     "name": "stdout",
     "output_type": "stream",
     "text": [
      "enter a number3\n",
      "5Rs\n"
     ]
    }
   ],
   "source": [
    "age=int(input('enter a number'))\n",
    "if(0<age<=3):\n",
    "    print('no fare')\n",
    "elif(3<age<=10):\n",
    "    print('5Rs')\n",
    "elif(10<age<=18):\n",
    "    print('10Rs')\n",
    "else:\n",
    "    print(\"6Rs\")"
   ]
  },
  {
   "cell_type": "code",
   "execution_count": 80,
   "id": "c6e6bbef",
   "metadata": {},
   "outputs": [
    {
     "name": "stdout",
     "output_type": "stream",
     "text": [
      "enter a number10\n",
      "10Rs\n"
     ]
    }
   ],
   "source": [
    "age=int(input('enter a number'))\n",
    "if(0<age<3):\n",
    "    print('no fare')\n",
    "elif(2<age<10):\n",
    "    print('5Rs')\n",
    "elif(9<age<18):\n",
    "    print('10Rs')\n",
    "else:\n",
    "    print(\"6Rs\")"
   ]
  },
  {
   "cell_type": "code",
   "execution_count": 81,
   "id": "f604c895",
   "metadata": {},
   "outputs": [],
   "source": [
    "### program if elif else"
   ]
  },
  {
   "cell_type": "code",
   "execution_count": 85,
   "id": "7db2ba37",
   "metadata": {},
   "outputs": [
    {
     "name": "stdout",
     "output_type": "stream",
     "text": [
      "enter a string:a\n",
      "a\n"
     ]
    }
   ],
   "source": [
    "st=str(input(\"enter a string:\"))\n",
    "if(st==\"a\"):\n",
    "    print(\"a\")\n",
    "elif(st=='b'):\n",
    "    print('b')\n",
    "else:\n",
    "    print('none')\n"
   ]
  },
  {
   "cell_type": "markdown",
   "id": "4e38826b",
   "metadata": {},
   "source": [
    "## day3 DS2"
   ]
  },
  {
   "cell_type": "code",
   "execution_count": null,
   "id": "28724dd4",
   "metadata": {},
   "outputs": [],
   "source": [
    "#correct code"
   ]
  },
  {
   "cell_type": "code",
   "execution_count": 1,
   "id": "a8f92c6a",
   "metadata": {},
   "outputs": [
    {
     "name": "stdout",
     "output_type": "stream",
     "text": [
      "34\n"
     ]
    }
   ],
   "source": [
    "num1=10\n",
    "num2=34\n",
    "num3=5\n",
    "if(num1>num2):\n",
    "    if(num1>num3):\n",
    "        print(num1)\n",
    "    else:\n",
    "        print(num3)\n",
    "else:\n",
    "    if(num2>num3):\n",
    "        print(num2)\n",
    "    else:\n",
    "        print(num3)"
   ]
  },
  {
   "cell_type": "code",
   "execution_count": null,
   "id": "d1eacb21",
   "metadata": {},
   "outputs": [],
   "source": [
    "wrong, when values are changed"
   ]
  },
  {
   "cell_type": "code",
   "execution_count": 6,
   "id": "7ac3cd2b",
   "metadata": {},
   "outputs": [
    {
     "name": "stdout",
     "output_type": "stream",
     "text": [
      "10\n"
     ]
    }
   ],
   "source": [
    "num1=10\n",
    "num2=5\n",
    "num3=34\n",
    "if(num1>num2):\n",
    "        print(num1)\n",
    "else:\n",
    "    if(num2>num3):\n",
    "        print(num2)\n",
    "    else:\n",
    "        print(num3)"
   ]
  },
  {
   "cell_type": "code",
   "execution_count": null,
   "id": "32480011",
   "metadata": {},
   "outputs": [],
   "source": [
    "## check password program"
   ]
  },
  {
   "cell_type": "code",
   "execution_count": 14,
   "id": "44955551",
   "metadata": {},
   "outputs": [
    {
     "name": "stdout",
     "output_type": "stream",
     "text": [
      "enter userid:ds_py\n",
      "enter pass:ds_pass\n",
      "accepted\n"
     ]
    }
   ],
   "source": [
    "userid=input(\"enter userid:\")\n",
    "password=input(\"enter pass:\")\n",
    "if(userid=='ds_py'):\n",
    "    if(password=='ds_pass'):\n",
    "        print(\"accepted\")\n",
    "    else:\n",
    "        print(\"not accepted\")"
   ]
  },
  {
   "cell_type": "code",
   "execution_count": null,
   "id": "cc6f6278",
   "metadata": {},
   "outputs": [],
   "source": [
    "userid=input(\"enter userid:\")\n",
    "password=input(\"enter pass:\")\n",
    "if(userid=='ds_py'):\n",
    "    if(password=='ds_pass'):\n",
    "        print(\"accepted\")\n",
    "    else:\n",
    "        print(\"not accepted\")\n",
    "else:\n",
    "    print(\"not accepted\")"
   ]
  },
  {
   "cell_type": "markdown",
   "id": "73629cde",
   "metadata": {},
   "source": [
    "## strings"
   ]
  },
  {
   "cell_type": "code",
   "execution_count": 15,
   "id": "911166a3",
   "metadata": {},
   "outputs": [
    {
     "name": "stdout",
     "output_type": "stream",
     "text": [
      "6\n"
     ]
    }
   ],
   "source": [
    "print(len(\"string\"))"
   ]
  },
  {
   "cell_type": "code",
   "execution_count": 17,
   "id": "da20eed6",
   "metadata": {},
   "outputs": [
    {
     "name": "stdout",
     "output_type": "stream",
     "text": [
      "i\n",
      "a\n",
      "s\n"
     ]
    }
   ],
   "source": [
    "str=\"i am raksha\"\n",
    "print(str[0])\n",
    "print(str[-1])\n",
    "print(str[-3])"
   ]
  },
  {
   "cell_type": "code",
   "execution_count": 20,
   "id": "49da75f7",
   "metadata": {},
   "outputs": [
    {
     "name": "stdout",
     "output_type": "stream",
     "text": [
      "i am raksha\n",
      "i am \n"
     ]
    }
   ],
   "source": [
    "str=\"i am raksha\"\n",
    "print(str[:])\n",
    "print(str[0:5])"
   ]
  },
  {
   "cell_type": "code",
   "execution_count": 19,
   "id": "ad9685f9",
   "metadata": {},
   "outputs": [
    {
     "name": "stdout",
     "output_type": "stream",
     "text": [
      "am ra\n"
     ]
    }
   ],
   "source": [
    "str=\"i am raksha\"\n",
    "print(str[2:7])"
   ]
  },
  {
   "cell_type": "code",
   "execution_count": 21,
   "id": "160150bb",
   "metadata": {},
   "outputs": [
    {
     "name": "stdout",
     "output_type": "stream",
     "text": [
      "i am ra\n",
      "m raksha\n"
     ]
    }
   ],
   "source": [
    "str=\"i am raksha\"\n",
    "print(str[:7])\n",
    "print(str[3:])"
   ]
  },
  {
   "cell_type": "code",
   "execution_count": 29,
   "id": "79fc55a7",
   "metadata": {},
   "outputs": [
    {
     "name": "stdout",
     "output_type": "stream",
     "text": [
      "i am rak\n",
      "sh\n"
     ]
    }
   ],
   "source": [
    "str=\"i am raksha\"\n",
    "print(str[:-3])\n",
    "print(str[-3:-1])"
   ]
  },
  {
   "cell_type": "markdown",
   "id": "4a888b7d",
   "metadata": {},
   "source": [
    "## reversing the string"
   ]
  },
  {
   "cell_type": "code",
   "execution_count": 30,
   "id": "7e118930",
   "metadata": {},
   "outputs": [
    {
     "name": "stdout",
     "output_type": "stream",
     "text": [
      "ahskar ma i\n"
     ]
    }
   ],
   "source": [
    "str=\"i am raksha\"\n",
    "print(str[::-1])"
   ]
  },
  {
   "cell_type": "code",
   "execution_count": 33,
   "id": "ee1ef14d",
   "metadata": {},
   "outputs": [
    {
     "name": "stdout",
     "output_type": "stream",
     "text": [
      "love pytho\n",
      "l\n",
      "nohtyp\n"
     ]
    }
   ],
   "source": [
    "str=\"i love python\"\n",
    "print(str[2:12])\n",
    "print(str[2])\n",
    "print(str[:-7:-1])"
   ]
  },
  {
   "cell_type": "code",
   "execution_count": 38,
   "id": "52ce2206",
   "metadata": {},
   "outputs": [
    {
     "name": "stdout",
     "output_type": "stream",
     "text": [
      "l\n"
     ]
    }
   ],
   "source": [
    "## reverse and display 3rd last\n",
    "str=\"i love python\"\n",
    "st=str[::-1]\n",
    "print(str[::-1][-3])\n"
   ]
  },
  {
   "cell_type": "code",
   "execution_count": 41,
   "id": "8ed43984",
   "metadata": {},
   "outputs": [
    {
     "name": "stdout",
     "output_type": "stream",
     "text": [
      "I LOVE PYTHON\n",
      "i love python\n"
     ]
    }
   ],
   "source": [
    "print(str.upper())\n",
    "print(str.lower())\n"
   ]
  },
  {
   "cell_type": "code",
   "execution_count": 42,
   "id": "9e711e04",
   "metadata": {},
   "outputs": [
    {
     "name": "stdout",
     "output_type": "stream",
     "text": [
      "I Love Python\n"
     ]
    }
   ],
   "source": [
    "print(str.title())"
   ]
  },
  {
   "cell_type": "code",
   "execution_count": 46,
   "id": "bbb41ede",
   "metadata": {},
   "outputs": [
    {
     "data": {
      "text/plain": [
       "'26-08-1999'"
      ]
     },
     "execution_count": 46,
     "metadata": {},
     "output_type": "execute_result"
    }
   ],
   "source": [
    "date=\"26\",\"08\",\"1999\"\n",
    "sep=\"-\"\n",
    "sep.join(date)"
   ]
  },
  {
   "cell_type": "code",
   "execution_count": 50,
   "id": "7ca9e4aa",
   "metadata": {},
   "outputs": [
    {
     "name": "stdout",
     "output_type": "stream",
     "text": [
      "python*is*easy\n"
     ]
    }
   ],
   "source": [
    "str=\"***python*is*easy***\"\n",
    "print(str.strip(\"*\"))"
   ]
  },
  {
   "cell_type": "code",
   "execution_count": 52,
   "id": "6da89062",
   "metadata": {},
   "outputs": [
    {
     "name": "stdout",
     "output_type": "stream",
     "text": [
      "   python is easy   \n",
      "python is easy\n"
     ]
    }
   ],
   "source": [
    "str=\"   python is easy   \"\n",
    "print(str)\n",
    "print(str.strip(\" \"))"
   ]
  },
  {
   "cell_type": "markdown",
   "id": "463354d5",
   "metadata": {},
   "source": [
    "## list"
   ]
  },
  {
   "cell_type": "code",
   "execution_count": null,
   "id": "546b237d",
   "metadata": {},
   "outputs": [],
   "source": [
    "# list is heterogenous, indexing, can have duplicates, enclosed in []"
   ]
  },
  {
   "cell_type": "code",
   "execution_count": 53,
   "id": "8b6ca080",
   "metadata": {},
   "outputs": [
    {
     "name": "stdout",
     "output_type": "stream",
     "text": [
      "<class 'list'>\n"
     ]
    }
   ],
   "source": [
    "sample_list=[1,3,4,7,3.5,8.3,\"a\",\"raks\",True]\n",
    "print(type(sample_list))"
   ]
  },
  {
   "cell_type": "code",
   "execution_count": 72,
   "id": "7d989f0e",
   "metadata": {},
   "outputs": [
    {
     "name": "stdout",
     "output_type": "stream",
     "text": [
      "['R', 'A', 'K', 'S', 'H', 'A']\n"
     ]
    }
   ],
   "source": [
    "list1=[\"R\",\"A\",\"K\"]\n",
    "list2=[\"S\",\"H\",\"A\"]\n",
    "print(list1+list2)"
   ]
  },
  {
   "cell_type": "code",
   "execution_count": 73,
   "id": "51220e62",
   "metadata": {},
   "outputs": [
    {
     "data": {
      "text/plain": [
       "['R', 'A', 'K', 'appended']"
      ]
     },
     "execution_count": 73,
     "metadata": {},
     "output_type": "execute_result"
    }
   ],
   "source": [
    "list1.append(\"appended\")\n",
    "list1\n"
   ]
  },
  {
   "cell_type": "code",
   "execution_count": 74,
   "id": "0c61f6a6",
   "metadata": {},
   "outputs": [
    {
     "data": {
      "text/plain": [
       "['R', 'A', 'inserted', 'K', 'appended']"
      ]
     },
     "execution_count": 74,
     "metadata": {},
     "output_type": "execute_result"
    }
   ],
   "source": [
    "list1.insert(2,\"inserted\")\n",
    "list1"
   ]
  },
  {
   "cell_type": "code",
   "execution_count": 75,
   "id": "b3d26e00",
   "metadata": {},
   "outputs": [
    {
     "data": {
      "text/plain": [
       "['A', 'K', 'R', 'appended', 'inserted']"
      ]
     },
     "execution_count": 75,
     "metadata": {},
     "output_type": "execute_result"
    }
   ],
   "source": [
    "list1.sort()\n",
    "list1"
   ]
  },
  {
   "cell_type": "code",
   "execution_count": 64,
   "id": "aa45192c",
   "metadata": {},
   "outputs": [
    {
     "data": {
      "text/plain": [
       "['R', 'K', 'A']"
      ]
     },
     "execution_count": 64,
     "metadata": {},
     "output_type": "execute_result"
    }
   ],
   "source": [
    "list1.sort(reverse=True)\n",
    "list1"
   ]
  },
  {
   "cell_type": "code",
   "execution_count": 76,
   "id": "2fd373dc",
   "metadata": {},
   "outputs": [
    {
     "data": {
      "text/plain": [
       "['A', 'K', 'R', 'appended', 'inserted']"
      ]
     },
     "execution_count": 76,
     "metadata": {},
     "output_type": "execute_result"
    }
   ],
   "source": [
    "list1.sort(reverse=False)\n",
    "list1"
   ]
  },
  {
   "cell_type": "markdown",
   "id": "75ff7ac2",
   "metadata": {},
   "source": [
    "## doesn't support reverse sorting"
   ]
  },
  {
   "cell_type": "code",
   "execution_count": 80,
   "id": "d0412277",
   "metadata": {},
   "outputs": [
    {
     "data": {
      "text/plain": [
       "['inserted', 'appended', 'R', 'K', 'A']"
      ]
     },
     "execution_count": 80,
     "metadata": {},
     "output_type": "execute_result"
    }
   ],
   "source": [
    "list3=sorted(list1,reverse=True)\n",
    "list3"
   ]
  },
  {
   "cell_type": "code",
   "execution_count": 81,
   "id": "d8c5f859",
   "metadata": {},
   "outputs": [
    {
     "name": "stdout",
     "output_type": "stream",
     "text": [
      "False\n"
     ]
    }
   ],
   "source": [
    "print('s' in list3)"
   ]
  },
  {
   "cell_type": "code",
   "execution_count": 82,
   "id": "886bd161",
   "metadata": {},
   "outputs": [
    {
     "name": "stdout",
     "output_type": "stream",
     "text": [
      "inserted\n",
      "appended\n",
      "R\n",
      "K\n",
      "A\n"
     ]
    }
   ],
   "source": [
    "for element in list3:\n",
    "    print(element)"
   ]
  },
  {
   "cell_type": "code",
   "execution_count": 83,
   "id": "727d42e5",
   "metadata": {},
   "outputs": [
    {
     "data": {
      "text/plain": [
       "5"
      ]
     },
     "execution_count": 83,
     "metadata": {},
     "output_type": "execute_result"
    }
   ],
   "source": [
    "len(list3)"
   ]
  },
  {
   "cell_type": "code",
   "execution_count": 84,
   "id": "eafc04b0",
   "metadata": {},
   "outputs": [
    {
     "data": {
      "text/plain": [
       "'inserted'"
      ]
     },
     "execution_count": 84,
     "metadata": {},
     "output_type": "execute_result"
    }
   ],
   "source": [
    "max(list3)"
   ]
  },
  {
   "cell_type": "code",
   "execution_count": 85,
   "id": "fcef3e03",
   "metadata": {},
   "outputs": [
    {
     "data": {
      "text/plain": [
       "'A'"
      ]
     },
     "execution_count": 85,
     "metadata": {},
     "output_type": "execute_result"
    }
   ],
   "source": [
    "min(list3)"
   ]
  },
  {
   "cell_type": "code",
   "execution_count": 88,
   "id": "d1e51bb1",
   "metadata": {},
   "outputs": [
    {
     "data": {
      "text/plain": [
       "105"
      ]
     },
     "execution_count": 88,
     "metadata": {},
     "output_type": "execute_result"
    }
   ],
   "source": [
    "price=[105,45,67,83]\n",
    "max(price)\n"
   ]
  },
  {
   "cell_type": "code",
   "execution_count": 89,
   "id": "8fa9e8b8",
   "metadata": {},
   "outputs": [
    {
     "data": {
      "text/plain": [
       "45"
      ]
     },
     "execution_count": 89,
     "metadata": {},
     "output_type": "execute_result"
    }
   ],
   "source": [
    "min(price)"
   ]
  },
  {
   "cell_type": "code",
   "execution_count": 90,
   "id": "899b34c5",
   "metadata": {},
   "outputs": [
    {
     "data": {
      "text/plain": [
       "[]"
      ]
     },
     "execution_count": 90,
     "metadata": {},
     "output_type": "execute_result"
    }
   ],
   "source": [
    "price.clear()\n",
    "price"
   ]
  },
  {
   "cell_type": "code",
   "execution_count": 126,
   "id": "0d898e80",
   "metadata": {},
   "outputs": [
    {
     "data": {
      "text/plain": [
       "3"
      ]
     },
     "execution_count": 126,
     "metadata": {},
     "output_type": "execute_result"
    }
   ],
   "source": [
    "price=[10,105,45,67,83,45,20,34,45]\n",
    "price.count(45)"
   ]
  },
  {
   "cell_type": "code",
   "execution_count": 127,
   "id": "79e1d39e",
   "metadata": {},
   "outputs": [
    {
     "data": {
      "text/plain": [
       "[10, 105, 45, 67, 83, 45, 20, 34, 45, 10, 20]"
      ]
     },
     "execution_count": 127,
     "metadata": {},
     "output_type": "execute_result"
    }
   ],
   "source": [
    "item=[10,20]\n",
    "price.extend(item)\n",
    "price"
   ]
  },
  {
   "cell_type": "markdown",
   "id": "2680f751",
   "metadata": {},
   "source": [
    "### append vs extend"
   ]
  },
  {
   "cell_type": "code",
   "execution_count": 101,
   "id": "99882ad7",
   "metadata": {
    "scrolled": true
   },
   "outputs": [
    {
     "ename": "TypeError",
     "evalue": "list.extend() takes exactly one argument (2 given)",
     "output_type": "error",
     "traceback": [
      "\u001b[1;31m---------------------------------------------------------------------------\u001b[0m",
      "\u001b[1;31mTypeError\u001b[0m                                 Traceback (most recent call last)",
      "Cell \u001b[1;32mIn[101], line 1\u001b[0m\n\u001b[1;32m----> 1\u001b[0m \u001b[43mprice\u001b[49m\u001b[38;5;241;43m.\u001b[39;49m\u001b[43mextend\u001b[49m\u001b[43m(\u001b[49m\u001b[38;5;241;43m30\u001b[39;49m\u001b[43m,\u001b[49m\u001b[38;5;241;43m40\u001b[39;49m\u001b[43m)\u001b[49m\n\u001b[0;32m      2\u001b[0m price\n",
      "\u001b[1;31mTypeError\u001b[0m: list.extend() takes exactly one argument (2 given)"
     ]
    }
   ],
   "source": [
    "price.extend(30,40)\n",
    "price"
   ]
  },
  {
   "cell_type": "code",
   "execution_count": null,
   "id": "342f92be",
   "metadata": {},
   "outputs": [],
   "source": [
    "## throws err if not found"
   ]
  },
  {
   "cell_type": "code",
   "execution_count": 105,
   "id": "b42d6bc8",
   "metadata": {},
   "outputs": [
    {
     "ename": "ValueError",
     "evalue": "'ram' is not in list",
     "output_type": "error",
     "traceback": [
      "\u001b[1;31m---------------------------------------------------------------------------\u001b[0m",
      "\u001b[1;31mValueError\u001b[0m                                Traceback (most recent call last)",
      "Cell \u001b[1;32mIn[105], line 1\u001b[0m\n\u001b[1;32m----> 1\u001b[0m \u001b[43mprice\u001b[49m\u001b[38;5;241;43m.\u001b[39;49m\u001b[43mindex\u001b[49m\u001b[43m(\u001b[49m\u001b[38;5;124;43m\"\u001b[39;49m\u001b[38;5;124;43mram\u001b[39;49m\u001b[38;5;124;43m\"\u001b[39;49m\u001b[43m)\u001b[49m\n",
      "\u001b[1;31mValueError\u001b[0m: 'ram' is not in list"
     ]
    }
   ],
   "source": [
    "price.index(\"ram\")"
   ]
  },
  {
   "cell_type": "code",
   "execution_count": 119,
   "id": "64b7e4cb",
   "metadata": {
    "scrolled": true
   },
   "outputs": [
    {
     "data": {
      "text/plain": [
       "4"
      ]
     },
     "execution_count": 119,
     "metadata": {},
     "output_type": "execute_result"
    }
   ],
   "source": [
    "price.index(83)"
   ]
  },
  {
   "cell_type": "code",
   "execution_count": 128,
   "id": "9092017d",
   "metadata": {
    "scrolled": true
   },
   "outputs": [
    {
     "data": {
      "text/plain": [
       "[10, 105, 45, 67, 83, 45, 20, 34, 45, 10]"
      ]
     },
     "execution_count": 128,
     "metadata": {},
     "output_type": "execute_result"
    }
   ],
   "source": [
    "price.pop()\n",
    "price"
   ]
  },
  {
   "cell_type": "code",
   "execution_count": null,
   "id": "c9c50cda",
   "metadata": {},
   "outputs": [],
   "source": [
    "# removes first element"
   ]
  },
  {
   "cell_type": "code",
   "execution_count": 129,
   "id": "c9576470",
   "metadata": {},
   "outputs": [
    {
     "data": {
      "text/plain": [
       "[105, 45, 67, 83, 45, 20, 34, 45, 10]"
      ]
     },
     "execution_count": 129,
     "metadata": {},
     "output_type": "execute_result"
    }
   ],
   "source": [
    "price.remove(10)\n",
    "price"
   ]
  },
  {
   "cell_type": "code",
   "execution_count": 130,
   "id": "329ec55a",
   "metadata": {},
   "outputs": [
    {
     "data": {
      "text/plain": [
       "[10, 45, 34, 20, 45, 83, 67, 45, 105]"
      ]
     },
     "execution_count": 130,
     "metadata": {},
     "output_type": "execute_result"
    }
   ],
   "source": [
    "price.reverse()\n",
    "price"
   ]
  },
  {
   "cell_type": "code",
   "execution_count": 137,
   "id": "fd5241f5",
   "metadata": {},
   "outputs": [
    {
     "data": {
      "text/plain": [
       "[4, 45, 34, 20, 45, 83, 67, 45, 105]"
      ]
     },
     "execution_count": 137,
     "metadata": {},
     "output_type": "execute_result"
    }
   ],
   "source": [
    "price[0]=4\n",
    "price"
   ]
  },
  {
   "cell_type": "code",
   "execution_count": 135,
   "id": "77040bc3",
   "metadata": {},
   "outputs": [],
   "source": [
    "list4=[2,5,3,7]\n",
    "del(list4)"
   ]
  },
  {
   "cell_type": "code",
   "execution_count": 136,
   "id": "6345929a",
   "metadata": {},
   "outputs": [
    {
     "ename": "NameError",
     "evalue": "name 'list4' is not defined",
     "output_type": "error",
     "traceback": [
      "\u001b[1;31m---------------------------------------------------------------------------\u001b[0m",
      "\u001b[1;31mNameError\u001b[0m                                 Traceback (most recent call last)",
      "Cell \u001b[1;32mIn[136], line 1\u001b[0m\n\u001b[1;32m----> 1\u001b[0m \u001b[43mlist4\u001b[49m\n",
      "\u001b[1;31mNameError\u001b[0m: name 'list4' is not defined"
     ]
    }
   ],
   "source": [
    "list4"
   ]
  },
  {
   "cell_type": "code",
   "execution_count": 2,
   "id": "f5f7c5b5",
   "metadata": {},
   "outputs": [
    {
     "name": "stdout",
     "output_type": "stream",
     "text": [
      "1\n",
      "4\n",
      "3\n",
      "aa\n",
      "c\n",
      "3.7\n"
     ]
    }
   ],
   "source": [
    "l=[1,4,3,'aa','c','3.7']\n",
    "for i in l:\n",
    "    print(i)"
   ]
  },
  {
   "cell_type": "markdown",
   "id": "1cb6e002",
   "metadata": {},
   "source": [
    "#### mutuable"
   ]
  },
  {
   "cell_type": "code",
   "execution_count": 15,
   "id": "9b60603a",
   "metadata": {},
   "outputs": [
    {
     "name": "stdout",
     "output_type": "stream",
     "text": [
      "[1, 4, 3, 'changed', 'c', '3.7']\n"
     ]
    }
   ],
   "source": [
    "l[3]='changed'\n",
    "print(l)\n"
   ]
  },
  {
   "cell_type": "markdown",
   "id": "efc09dbd",
   "metadata": {},
   "source": [
    "## tuple"
   ]
  },
  {
   "cell_type": "code",
   "execution_count": 12,
   "id": "c520a60c",
   "metadata": {},
   "outputs": [],
   "source": [
    "# immutable\n",
    "# heterogenous\n",
    "# duplicates allowed\n",
    "# container object"
   ]
  },
  {
   "cell_type": "markdown",
   "id": "0105e982",
   "metadata": {},
   "source": [
    "##### enclosed in paranethesis"
   ]
  },
  {
   "cell_type": "code",
   "execution_count": 18,
   "id": "550e1074",
   "metadata": {},
   "outputs": [
    {
     "name": "stdout",
     "output_type": "stream",
     "text": [
      "<class 'tuple'>\n"
     ]
    }
   ],
   "source": [
    "t=(1,4,3,'aa','c','3.7')\n",
    "print(type(t))"
   ]
  },
  {
   "cell_type": "markdown",
   "id": "62fe5b7c",
   "metadata": {},
   "source": [
    "#### paranethesis not mandatory"
   ]
  },
  {
   "cell_type": "code",
   "execution_count": 20,
   "id": "1b6403d0",
   "metadata": {},
   "outputs": [
    {
     "name": "stdout",
     "output_type": "stream",
     "text": [
      "<class 'tuple'>\n"
     ]
    }
   ],
   "source": [
    "t=1,4,3,'aa','c','3.7'\n",
    "print(type(t))"
   ]
  },
  {
   "cell_type": "markdown",
   "id": "76837c6d",
   "metadata": {},
   "source": [
    "#### IMMUTABLE"
   ]
  },
  {
   "cell_type": "code",
   "execution_count": 19,
   "id": "b8b90297",
   "metadata": {},
   "outputs": [
    {
     "ename": "TypeError",
     "evalue": "'tuple' object does not support item assignment",
     "output_type": "error",
     "traceback": [
      "\u001b[1;31m---------------------------------------------------------------------------\u001b[0m",
      "\u001b[1;31mTypeError\u001b[0m                                 Traceback (most recent call last)",
      "Cell \u001b[1;32mIn[19], line 1\u001b[0m\n\u001b[1;32m----> 1\u001b[0m t[\u001b[38;5;241m3\u001b[39m]\u001b[38;5;241m=\u001b[39m\u001b[38;5;124m'\u001b[39m\u001b[38;5;124mchanging\u001b[39m\u001b[38;5;124m'\u001b[39m\n\u001b[0;32m      2\u001b[0m \u001b[38;5;28mprint\u001b[39m(t)\n",
      "\u001b[1;31mTypeError\u001b[0m: 'tuple' object does not support item assignment"
     ]
    }
   ],
   "source": [
    "\n",
    "t[3]='changing'\n",
    "print(t)"
   ]
  },
  {
   "cell_type": "code",
   "execution_count": 21,
   "id": "c09d403d",
   "metadata": {},
   "outputs": [
    {
     "name": "stdout",
     "output_type": "stream",
     "text": [
      "aa\n"
     ]
    }
   ],
   "source": [
    "print(t[3])"
   ]
  },
  {
   "cell_type": "markdown",
   "id": "5bb6328a",
   "metadata": {},
   "source": [
    "#### sort sorted in tuple"
   ]
  },
  {
   "cell_type": "code",
   "execution_count": 26,
   "id": "03106df6",
   "metadata": {},
   "outputs": [
    {
     "ename": "AttributeError",
     "evalue": "'tuple' object has no attribute 'sort'",
     "output_type": "error",
     "traceback": [
      "\u001b[1;31m---------------------------------------------------------------------------\u001b[0m",
      "\u001b[1;31mAttributeError\u001b[0m                            Traceback (most recent call last)",
      "Cell \u001b[1;32mIn[26], line 1\u001b[0m\n\u001b[1;32m----> 1\u001b[0m \u001b[43mt\u001b[49m\u001b[38;5;241;43m.\u001b[39;49m\u001b[43msort\u001b[49m()\n\u001b[0;32m      2\u001b[0m t\n",
      "\u001b[1;31mAttributeError\u001b[0m: 'tuple' object has no attribute 'sort'"
     ]
    }
   ],
   "source": [
    "t.sort()\n",
    "t"
   ]
  },
  {
   "cell_type": "markdown",
   "id": "504aaf62",
   "metadata": {},
   "source": [
    "#### sorted doesn't work for different data types"
   ]
  },
  {
   "cell_type": "code",
   "execution_count": 27,
   "id": "398632b6",
   "metadata": {
    "scrolled": true
   },
   "outputs": [
    {
     "ename": "TypeError",
     "evalue": "'<' not supported between instances of 'str' and 'int'",
     "output_type": "error",
     "traceback": [
      "\u001b[1;31m---------------------------------------------------------------------------\u001b[0m",
      "\u001b[1;31mTypeError\u001b[0m                                 Traceback (most recent call last)",
      "Cell \u001b[1;32mIn[27], line 1\u001b[0m\n\u001b[1;32m----> 1\u001b[0m \u001b[38;5;28;43msorted\u001b[39;49m\u001b[43m(\u001b[49m\u001b[43mt\u001b[49m\u001b[43m)\u001b[49m\n\u001b[0;32m      2\u001b[0m t\n",
      "\u001b[1;31mTypeError\u001b[0m: '<' not supported between instances of 'str' and 'int'"
     ]
    }
   ],
   "source": [
    "sorted(t)\n",
    "t"
   ]
  },
  {
   "cell_type": "markdown",
   "id": "29f9cefd",
   "metadata": {},
   "source": [
    "#### now works for all int or all str"
   ]
  },
  {
   "cell_type": "code",
   "execution_count": 47,
   "id": "f4d6d86a",
   "metadata": {},
   "outputs": [
    {
     "name": "stdout",
     "output_type": "stream",
     "text": [
      "(1, 5.1, 3, 5, 2.4, 4, 5.0, 8.7, 7)\n"
     ]
    }
   ],
   "source": [
    "samplet = (1,5.1,3,5,2.4,4,5.0,8.7,7)\n",
    "print(samplet)"
   ]
  },
  {
   "cell_type": "code",
   "execution_count": 48,
   "id": "0d4906c2",
   "metadata": {},
   "outputs": [
    {
     "data": {
      "text/plain": [
       "[1, 2.4, 3, 4, 5, 5.0, 5.1, 7, 8.7]"
      ]
     },
     "execution_count": 48,
     "metadata": {},
     "output_type": "execute_result"
    }
   ],
   "source": [
    "sorted(samplet)"
   ]
  },
  {
   "cell_type": "code",
   "execution_count": 41,
   "id": "528f1ba8",
   "metadata": {},
   "outputs": [
    {
     "name": "stdout",
     "output_type": "stream",
     "text": [
      "('ab', 'a', 'ef', 'aa', 'd')\n"
     ]
    }
   ],
   "source": [
    "t2=('ab','a','ef','aa','d')\n",
    "print(t2)"
   ]
  },
  {
   "cell_type": "code",
   "execution_count": 42,
   "id": "2f941b68",
   "metadata": {},
   "outputs": [
    {
     "data": {
      "text/plain": [
       "['a', 'aa', 'ab', 'd', 'ef']"
      ]
     },
     "execution_count": 42,
     "metadata": {},
     "output_type": "execute_result"
    }
   ],
   "source": [
    "sorted(t2)"
   ]
  },
  {
   "cell_type": "markdown",
   "id": "17c63114",
   "metadata": {},
   "source": [
    "### case sensitive True"
   ]
  },
  {
   "cell_type": "code",
   "execution_count": 50,
   "id": "88065229",
   "metadata": {},
   "outputs": [
    {
     "ename": "NameError",
     "evalue": "name 'TRUE' is not defined",
     "output_type": "error",
     "traceback": [
      "\u001b[1;31m---------------------------------------------------------------------------\u001b[0m",
      "\u001b[1;31mNameError\u001b[0m                                 Traceback (most recent call last)",
      "Cell \u001b[1;32mIn[50], line 1\u001b[0m\n\u001b[1;32m----> 1\u001b[0m \u001b[38;5;28msorted\u001b[39m(t2,reverse\u001b[38;5;241m=\u001b[39m\u001b[43mTRUE\u001b[49m)\n",
      "\u001b[1;31mNameError\u001b[0m: name 'TRUE' is not defined"
     ]
    }
   ],
   "source": [
    "sorted(t2,reverse=TRUE)"
   ]
  },
  {
   "cell_type": "code",
   "execution_count": 49,
   "id": "7eff805d",
   "metadata": {},
   "outputs": [
    {
     "data": {
      "text/plain": [
       "['ef', 'd', 'ab', 'aa', 'a']"
      ]
     },
     "execution_count": 49,
     "metadata": {},
     "output_type": "execute_result"
    }
   ],
   "source": [
    "sorted(t2,reverse=True)"
   ]
  },
  {
   "cell_type": "code",
   "execution_count": 52,
   "id": "0575c80d",
   "metadata": {},
   "outputs": [
    {
     "data": {
      "text/plain": [
       "('ab', 'a', 'ef', 'aa', 'd')"
      ]
     },
     "execution_count": 52,
     "metadata": {},
     "output_type": "execute_result"
    }
   ],
   "source": [
    "t2copy=t2\n",
    "t2copy"
   ]
  },
  {
   "cell_type": "code",
   "execution_count": 53,
   "id": "198070f5",
   "metadata": {
    "scrolled": true
   },
   "outputs": [
    {
     "data": {
      "text/plain": [
       "('ab',\n",
       " 'a',\n",
       " 'ef',\n",
       " 'aa',\n",
       " 'd',\n",
       " 'ab',\n",
       " 'a',\n",
       " 'ef',\n",
       " 'aa',\n",
       " 'd',\n",
       " 'ab',\n",
       " 'a',\n",
       " 'ef',\n",
       " 'aa',\n",
       " 'd')"
      ]
     },
     "execution_count": 53,
     "metadata": {},
     "output_type": "execute_result"
    }
   ],
   "source": [
    "t2copy*3"
   ]
  },
  {
   "cell_type": "code",
   "execution_count": 56,
   "id": "4d9e059d",
   "metadata": {},
   "outputs": [
    {
     "data": {
      "text/plain": [
       "(1, 5.1, 3, 5, 2.4, 4, 5.0, 8.7, 7, 1, 5.1, 3, 5, 2.4, 4, 5.0, 8.7, 7)"
      ]
     },
     "execution_count": 56,
     "metadata": {},
     "output_type": "execute_result"
    }
   ],
   "source": [
    "samplet*2"
   ]
  },
  {
   "cell_type": "code",
   "execution_count": 57,
   "id": "f8a64c3f",
   "metadata": {},
   "outputs": [],
   "source": [
    "### concat tuple"
   ]
  },
  {
   "cell_type": "code",
   "execution_count": 59,
   "id": "a167b75b",
   "metadata": {},
   "outputs": [
    {
     "data": {
      "text/plain": [
       "('ab', 'a', 'ef', 'aa', 'd', 1, 5.1, 3, 5, 2.4, 4, 5.0, 8.7, 7)"
      ]
     },
     "execution_count": 59,
     "metadata": {},
     "output_type": "execute_result"
    }
   ],
   "source": [
    "t3=t2+samplet\n",
    "t3"
   ]
  },
  {
   "cell_type": "code",
   "execution_count": 60,
   "id": "d8e4ff35",
   "metadata": {},
   "outputs": [],
   "source": [
    "### in "
   ]
  },
  {
   "cell_type": "code",
   "execution_count": 62,
   "id": "fdd83046",
   "metadata": {},
   "outputs": [
    {
     "name": "stdout",
     "output_type": "stream",
     "text": [
      "True\n",
      "False\n"
     ]
    }
   ],
   "source": [
    "print(5 in samplet)\n",
    "print(5 not in samplet)"
   ]
  },
  {
   "cell_type": "code",
   "execution_count": 64,
   "id": "71f85071",
   "metadata": {},
   "outputs": [
    {
     "name": "stdout",
     "output_type": "stream",
     "text": [
      "1\n",
      "5.1\n",
      "3\n",
      "5\n",
      "2.4\n",
      "4\n",
      "5.0\n",
      "8.7\n",
      "7\n"
     ]
    }
   ],
   "source": [
    "for el in samplet:\n",
    "    print(el)"
   ]
  },
  {
   "cell_type": "code",
   "execution_count": 68,
   "id": "a80d2708",
   "metadata": {},
   "outputs": [
    {
     "data": {
      "text/plain": [
       "9"
      ]
     },
     "execution_count": 68,
     "metadata": {},
     "output_type": "execute_result"
    }
   ],
   "source": [
    "len(samplet)"
   ]
  },
  {
   "cell_type": "code",
   "execution_count": 69,
   "id": "f68267bf",
   "metadata": {
    "scrolled": true
   },
   "outputs": [
    {
     "name": "stdout",
     "output_type": "stream",
     "text": [
      "ab\n",
      "a\n",
      "ef\n",
      "aa\n",
      "d\n"
     ]
    }
   ],
   "source": [
    "for ele in t2:\n",
    "    print(ele)"
   ]
  },
  {
   "cell_type": "code",
   "execution_count": 71,
   "id": "53481cf5",
   "metadata": {},
   "outputs": [
    {
     "data": {
      "text/plain": [
       "5"
      ]
     },
     "execution_count": 71,
     "metadata": {},
     "output_type": "execute_result"
    }
   ],
   "source": [
    "len(t2)"
   ]
  },
  {
   "cell_type": "markdown",
   "id": "ec30b10b",
   "metadata": {},
   "source": [
    "#### length of last element of tuple"
   ]
  },
  {
   "cell_type": "code",
   "execution_count": 70,
   "id": "d169c172",
   "metadata": {},
   "outputs": [
    {
     "data": {
      "text/plain": [
       "1"
      ]
     },
     "execution_count": 70,
     "metadata": {},
     "output_type": "execute_result"
    }
   ],
   "source": [
    "len(ele)"
   ]
  },
  {
   "cell_type": "code",
   "execution_count": 75,
   "id": "64a59ce7",
   "metadata": {},
   "outputs": [
    {
     "ename": "TypeError",
     "evalue": "'>' not supported between instances of 'str' and 'int'",
     "output_type": "error",
     "traceback": [
      "\u001b[1;31m---------------------------------------------------------------------------\u001b[0m",
      "\u001b[1;31mTypeError\u001b[0m                                 Traceback (most recent call last)",
      "Cell \u001b[1;32mIn[75], line 1\u001b[0m\n\u001b[1;32m----> 1\u001b[0m \u001b[38;5;28;43mmax\u001b[39;49m\u001b[43m(\u001b[49m\u001b[43mt\u001b[49m\u001b[43m)\u001b[49m\n",
      "\u001b[1;31mTypeError\u001b[0m: '>' not supported between instances of 'str' and 'int'"
     ]
    }
   ],
   "source": [
    "max(t)"
   ]
  },
  {
   "cell_type": "code",
   "execution_count": 73,
   "id": "4f9f6d33",
   "metadata": {},
   "outputs": [
    {
     "data": {
      "text/plain": [
       "'a'"
      ]
     },
     "execution_count": 73,
     "metadata": {},
     "output_type": "execute_result"
    }
   ],
   "source": [
    "min(t2)"
   ]
  },
  {
   "cell_type": "code",
   "execution_count": 76,
   "id": "23a5e606",
   "metadata": {},
   "outputs": [
    {
     "ename": "AttributeError",
     "evalue": "'tuple' object has no attribute 'append'",
     "output_type": "error",
     "traceback": [
      "\u001b[1;31m---------------------------------------------------------------------------\u001b[0m",
      "\u001b[1;31mAttributeError\u001b[0m                            Traceback (most recent call last)",
      "Cell \u001b[1;32mIn[76], line 1\u001b[0m\n\u001b[1;32m----> 1\u001b[0m \u001b[43mt\u001b[49m\u001b[38;5;241;43m.\u001b[39;49m\u001b[43mappend\u001b[49m(\u001b[38;5;124m'\u001b[39m\u001b[38;5;124mappended\u001b[39m\u001b[38;5;124m'\u001b[39m)\n",
      "\u001b[1;31mAttributeError\u001b[0m: 'tuple' object has no attribute 'append'"
     ]
    }
   ],
   "source": [
    "t.append('appended')"
   ]
  },
  {
   "cell_type": "markdown",
   "id": "f5272818",
   "metadata": {},
   "source": [
    "### slice"
   ]
  },
  {
   "cell_type": "code",
   "execution_count": 77,
   "id": "e3ff1121",
   "metadata": {},
   "outputs": [
    {
     "data": {
      "text/plain": [
       "(1, 4, 3)"
      ]
     },
     "execution_count": 77,
     "metadata": {},
     "output_type": "execute_result"
    }
   ],
   "source": [
    "t[0:3]"
   ]
  },
  {
   "cell_type": "markdown",
   "id": "28edb23b",
   "metadata": {},
   "source": [
    "### range"
   ]
  },
  {
   "cell_type": "code",
   "execution_count": 78,
   "id": "736d6eb4",
   "metadata": {},
   "outputs": [
    {
     "data": {
      "text/plain": [
       "(0, 1, 2, 3, 4, 5, 6, 7, 8, 9, 10)"
      ]
     },
     "execution_count": 78,
     "metadata": {},
     "output_type": "execute_result"
    }
   ],
   "source": [
    "tuple(range(11))"
   ]
  },
  {
   "cell_type": "markdown",
   "id": "b1aa3c37",
   "metadata": {},
   "source": [
    "#### updated element in tuple using conversion "
   ]
  },
  {
   "cell_type": "code",
   "execution_count": 84,
   "id": "bad51a89",
   "metadata": {},
   "outputs": [
    {
     "name": "stdout",
     "output_type": "stream",
     "text": [
      "(1, 3, 5, 2, 9)\n"
     ]
    }
   ],
   "source": [
    "t4=(1,3,6,2,9)\n",
    "l4=list(t4)\n",
    "l4[2]=5\n",
    "t4=tuple(l4)\n",
    "print(t4)"
   ]
  },
  {
   "cell_type": "code",
   "execution_count": 86,
   "id": "5fc61316",
   "metadata": {},
   "outputs": [
    {
     "data": {
      "text/plain": [
       "9"
      ]
     },
     "execution_count": 86,
     "metadata": {},
     "output_type": "execute_result"
    }
   ],
   "source": [
    "t4[-1]"
   ]
  },
  {
   "cell_type": "markdown",
   "id": "1cf797e5",
   "metadata": {},
   "source": [
    "## dictionary"
   ]
  },
  {
   "cell_type": "markdown",
   "id": "7be6c960",
   "metadata": {},
   "source": [
    "#### mutable\n",
    "#### key-value pair\n",
    "#### indexing \n",
    "#### enclosed in {}"
   ]
  },
  {
   "cell_type": "code",
   "execution_count": 10,
   "id": "88ae9a80",
   "metadata": {},
   "outputs": [],
   "source": [
    "dict1={\"name\":\"Mukul\", \"hobbies\":[\"sing\",\"dance\",\"paint\"], \"age\":23}"
   ]
  },
  {
   "cell_type": "code",
   "execution_count": 11,
   "id": "8f9f10d1",
   "metadata": {},
   "outputs": [
    {
     "data": {
      "text/plain": [
       "dict_keys(['name', 'hobbies', 'age'])"
      ]
     },
     "execution_count": 11,
     "metadata": {},
     "output_type": "execute_result"
    }
   ],
   "source": [
    "dict1.keys()"
   ]
  },
  {
   "cell_type": "code",
   "execution_count": 12,
   "id": "8e108367",
   "metadata": {},
   "outputs": [
    {
     "data": {
      "text/plain": [
       "dict_values(['Mukul', ['sing', 'dance', 'paint'], 23])"
      ]
     },
     "execution_count": 12,
     "metadata": {},
     "output_type": "execute_result"
    }
   ],
   "source": [
    "dict1.values()"
   ]
  },
  {
   "cell_type": "code",
   "execution_count": 13,
   "id": "9e8f10bb",
   "metadata": {},
   "outputs": [
    {
     "data": {
      "text/plain": [
       "'Mukul'"
      ]
     },
     "execution_count": 13,
     "metadata": {},
     "output_type": "execute_result"
    }
   ],
   "source": [
    "dict1['name']"
   ]
  },
  {
   "cell_type": "code",
   "execution_count": 14,
   "id": "eba81e92",
   "metadata": {},
   "outputs": [],
   "source": [
    "dict1['name']='Mukund'"
   ]
  },
  {
   "cell_type": "code",
   "execution_count": 15,
   "id": "38ff970e",
   "metadata": {},
   "outputs": [
    {
     "data": {
      "text/plain": [
       "{'name': 'Mukund', 'hobbies': ['sing', 'dance', 'paint'], 'age': 23}"
      ]
     },
     "execution_count": 15,
     "metadata": {},
     "output_type": "execute_result"
    }
   ],
   "source": [
    "dict1"
   ]
  },
  {
   "cell_type": "code",
   "execution_count": 16,
   "id": "97f837d6",
   "metadata": {},
   "outputs": [],
   "source": [
    "del dict1['name']"
   ]
  },
  {
   "cell_type": "code",
   "execution_count": 17,
   "id": "79c53b18",
   "metadata": {},
   "outputs": [],
   "source": [
    "dict1['profession']='engineer'"
   ]
  },
  {
   "cell_type": "markdown",
   "id": "ea25b293",
   "metadata": {},
   "source": [
    "#### add a key value pair"
   ]
  },
  {
   "cell_type": "code",
   "execution_count": 18,
   "id": "80c61aef",
   "metadata": {
    "scrolled": true
   },
   "outputs": [
    {
     "data": {
      "text/plain": [
       "{'hobbies': ['sing', 'dance', 'paint'], 'age': 23, 'profession': 'engineer'}"
      ]
     },
     "execution_count": 18,
     "metadata": {},
     "output_type": "execute_result"
    }
   ],
   "source": [
    "dict1"
   ]
  },
  {
   "cell_type": "code",
   "execution_count": 22,
   "id": "c4ea7ec8",
   "metadata": {
    "scrolled": true
   },
   "outputs": [
    {
     "data": {
      "text/plain": [
       "{'hobbies': ['sing', 'dance', 'paint'],\n",
       " 'age': 23,\n",
       " 'profession': 'engineer',\n",
       " 'company': 'Nagarro'}"
      ]
     },
     "execution_count": 22,
     "metadata": {},
     "output_type": "execute_result"
    }
   ],
   "source": [
    "dict1.update({\"company\":\"Nagarro\"})\n",
    "dict1"
   ]
  },
  {
   "cell_type": "code",
   "execution_count": 23,
   "id": "cbca3d74",
   "metadata": {},
   "outputs": [
    {
     "data": {
      "text/plain": [
       "4"
      ]
     },
     "execution_count": 23,
     "metadata": {},
     "output_type": "execute_result"
    }
   ],
   "source": [
    "len(dict1)"
   ]
  },
  {
   "cell_type": "code",
   "execution_count": 24,
   "id": "10a99924",
   "metadata": {},
   "outputs": [
    {
     "data": {
      "text/plain": [
       "'Nagarro'"
      ]
     },
     "execution_count": 24,
     "metadata": {},
     "output_type": "execute_result"
    }
   ],
   "source": [
    "dict1.get('company')"
   ]
  },
  {
   "cell_type": "code",
   "execution_count": 25,
   "id": "28a92230",
   "metadata": {},
   "outputs": [
    {
     "data": {
      "text/plain": [
       "dict"
      ]
     },
     "execution_count": 25,
     "metadata": {},
     "output_type": "execute_result"
    }
   ],
   "source": [
    "type(dict1)"
   ]
  },
  {
   "cell_type": "code",
   "execution_count": 26,
   "id": "e1aa2a33",
   "metadata": {},
   "outputs": [
    {
     "data": {
      "text/plain": [
       "dict_items([('hobbies', ['sing', 'dance', 'paint']), ('age', 23), ('profession', 'engineer'), ('company', 'Nagarro')])"
      ]
     },
     "execution_count": 26,
     "metadata": {},
     "output_type": "execute_result"
    }
   ],
   "source": [
    "dict1.items()"
   ]
  },
  {
   "cell_type": "code",
   "execution_count": 28,
   "id": "6eabe12c",
   "metadata": {},
   "outputs": [
    {
     "data": {
      "text/plain": [
       "'dance'"
      ]
     },
     "execution_count": 28,
     "metadata": {},
     "output_type": "execute_result"
    }
   ],
   "source": [
    "dict1[\"hobbies\"][1]"
   ]
  },
  {
   "cell_type": "markdown",
   "id": "2e97be57",
   "metadata": {},
   "source": [
    "## sets"
   ]
  },
  {
   "cell_type": "markdown",
   "id": "2b1c92d5",
   "metadata": {},
   "source": [
    "#### no duplicates\n",
    "#### no indexing\n",
    "#### ordered as per elemeent's first place  (check cehck)\n",
    "#### mutable"
   ]
  },
  {
   "cell_type": "code",
   "execution_count": 40,
   "id": "444cf500",
   "metadata": {},
   "outputs": [
    {
     "data": {
      "text/plain": [
       "{-2, -3, 1, 2, 3, 6, 7, 9, 'a', 'b', 'd', 'e'}"
      ]
     },
     "execution_count": 40,
     "metadata": {},
     "output_type": "execute_result"
    }
   ],
   "source": [
    "set1={\"a\",\"b\",\"d\",\"b\",3,9,7,9,3,6,2,1,7,\"e\",-3,\"a\",-2}\n",
    "set1"
   ]
  },
  {
   "cell_type": "code",
   "execution_count": 33,
   "id": "d7ef005a",
   "metadata": {},
   "outputs": [
    {
     "data": {
      "text/plain": [
       "set"
      ]
     },
     "execution_count": 33,
     "metadata": {},
     "output_type": "execute_result"
    }
   ],
   "source": [
    "type(set1)"
   ]
  },
  {
   "cell_type": "code",
   "execution_count": 41,
   "id": "fe5825a8",
   "metadata": {},
   "outputs": [
    {
     "data": {
      "text/plain": [
       "12"
      ]
     },
     "execution_count": 41,
     "metadata": {},
     "output_type": "execute_result"
    }
   ],
   "source": [
    "len(set1)"
   ]
  },
  {
   "cell_type": "code",
   "execution_count": 42,
   "id": "e1fb4e34",
   "metadata": {},
   "outputs": [
    {
     "ename": "TypeError",
     "evalue": "'set' object is not subscriptable",
     "output_type": "error",
     "traceback": [
      "\u001b[1;31m---------------------------------------------------------------------------\u001b[0m",
      "\u001b[1;31mTypeError\u001b[0m                                 Traceback (most recent call last)",
      "Cell \u001b[1;32mIn[42], line 1\u001b[0m\n\u001b[1;32m----> 1\u001b[0m \u001b[43mset1\u001b[49m\u001b[43m[\u001b[49m\u001b[38;5;241;43m0\u001b[39;49m\u001b[43m]\u001b[49m\n",
      "\u001b[1;31mTypeError\u001b[0m: 'set' object is not subscriptable"
     ]
    }
   ],
   "source": [
    "set1[0]"
   ]
  },
  {
   "cell_type": "code",
   "execution_count": 43,
   "id": "d0db215e",
   "metadata": {},
   "outputs": [
    {
     "ename": "TypeError",
     "evalue": "'set' object does not support item assignment",
     "output_type": "error",
     "traceback": [
      "\u001b[1;31m---------------------------------------------------------------------------\u001b[0m",
      "\u001b[1;31mTypeError\u001b[0m                                 Traceback (most recent call last)",
      "Cell \u001b[1;32mIn[43], line 1\u001b[0m\n\u001b[1;32m----> 1\u001b[0m set1[\u001b[38;5;241m2\u001b[39m]\u001b[38;5;241m=\u001b[39m\u001b[38;5;124m\"\u001b[39m\u001b[38;5;124mabc\u001b[39m\u001b[38;5;124m\"\u001b[39m\n",
      "\u001b[1;31mTypeError\u001b[0m: 'set' object does not support item assignment"
     ]
    }
   ],
   "source": [
    "set1[2]=\"abc\""
   ]
  },
  {
   "cell_type": "code",
   "execution_count": 47,
   "id": "6e72715b",
   "metadata": {},
   "outputs": [],
   "source": [
    "set1.add(\"abc\")"
   ]
  },
  {
   "cell_type": "code",
   "execution_count": 48,
   "id": "b3b6c37d",
   "metadata": {},
   "outputs": [
    {
     "data": {
      "text/plain": [
       "{-2, -3, 1, 2, 3, 6, 7, 9, 'a', 'abc', 'b', 'd', 'e'}"
      ]
     },
     "execution_count": 48,
     "metadata": {},
     "output_type": "execute_result"
    }
   ],
   "source": [
    "set1"
   ]
  },
  {
   "cell_type": "code",
   "execution_count": 49,
   "id": "9bbc0818",
   "metadata": {},
   "outputs": [],
   "source": [
    "set1.remove(-3)"
   ]
  },
  {
   "cell_type": "code",
   "execution_count": 50,
   "id": "58e26bfd",
   "metadata": {},
   "outputs": [
    {
     "data": {
      "text/plain": [
       "{-2, 1, 2, 3, 6, 7, 9, 'a', 'abc', 'b', 'd', 'e'}"
      ]
     },
     "execution_count": 50,
     "metadata": {},
     "output_type": "execute_result"
    }
   ],
   "source": [
    "set1"
   ]
  },
  {
   "cell_type": "code",
   "execution_count": 51,
   "id": "d50472aa",
   "metadata": {},
   "outputs": [],
   "source": [
    "#### add natural number "
   ]
  },
  {
   "cell_type": "code",
   "execution_count": 55,
   "id": "363f991d",
   "metadata": {},
   "outputs": [
    {
     "name": "stdout",
     "output_type": "stream",
     "text": [
      "55\n"
     ]
    }
   ],
   "source": [
    "sum=0\n",
    "for i in range(11):\n",
    "    sum+=i\n",
    "print(sum)"
   ]
  },
  {
   "cell_type": "code",
   "execution_count": 61,
   "id": "e4ca1466",
   "metadata": {},
   "outputs": [
    {
     "name": "stdout",
     "output_type": "stream",
     "text": [
      "55\n"
     ]
    }
   ],
   "source": [
    "sum1=0\n",
    "j=1\n",
    "while (j<=10):\n",
    "    sum1=sum1+j\n",
    "    j=j+1\n",
    "print(sum1)"
   ]
  },
  {
   "cell_type": "markdown",
   "id": "9de8cbc6",
   "metadata": {},
   "source": [
    "### break"
   ]
  },
  {
   "cell_type": "code",
   "execution_count": 62,
   "id": "58a64418",
   "metadata": {},
   "outputs": [
    {
     "name": "stdout",
     "output_type": "stream",
     "text": [
      "36\n"
     ]
    }
   ],
   "source": [
    "sum1=0\n",
    "j=1\n",
    "while (j<=10):\n",
    "    if j==9:\n",
    "        break\n",
    "    sum1=sum1+j\n",
    "    j=j+1\n",
    "print(sum1)"
   ]
  },
  {
   "cell_type": "markdown",
   "id": "686564cd",
   "metadata": {},
   "source": [
    "### continue"
   ]
  },
  {
   "cell_type": "code",
   "execution_count": 3,
   "id": "c7f84cf6",
   "metadata": {},
   "outputs": [
    {
     "name": "stdout",
     "output_type": "stream",
     "text": [
      "a\n",
      "l\n",
      "e\n"
     ]
    }
   ],
   "source": [
    "for j in \"apple\":\n",
    "    if j=='p':\n",
    "        continue\n",
    "    else:\n",
    "        print(j)"
   ]
  },
  {
   "cell_type": "code",
   "execution_count": 29,
   "id": "6a629dac",
   "metadata": {},
   "outputs": [
    {
     "name": "stdout",
     "output_type": "stream",
     "text": [
      "0\n",
      "1\n",
      "2\n",
      "3\n",
      "4\n",
      "6\n"
     ]
    }
   ],
   "source": [
    "for j in range(7):\n",
    "    if j==5:\n",
    "        continue\n",
    "    print(j)"
   ]
  },
  {
   "cell_type": "markdown",
   "id": "22748152",
   "metadata": {},
   "source": [
    "### pattern"
   ]
  },
  {
   "cell_type": "code",
   "execution_count": 34,
   "id": "c1cf013c",
   "metadata": {},
   "outputs": [
    {
     "name": "stdout",
     "output_type": "stream",
     "text": [
      "0 1 \n",
      "\n",
      "0 1 2 \n",
      "\n",
      "0 1 2 3 \n",
      "\n",
      "0 1 2 3 4 \n",
      "\n"
     ]
    }
   ],
   "source": [
    "for i in range(2,6):\n",
    "    for j in range(i):\n",
    "        print(j,end=\" \")\n",
    "    print(\"\\n\")"
   ]
  },
  {
   "cell_type": "code",
   "execution_count": null,
   "id": "053161b6",
   "metadata": {},
   "outputs": [],
   "source": []
  }
 ],
 "metadata": {
  "kernelspec": {
   "display_name": "Python 3 (ipykernel)",
   "language": "python",
   "name": "python3"
  },
  "language_info": {
   "codemirror_mode": {
    "name": "ipython",
    "version": 3
   },
   "file_extension": ".py",
   "mimetype": "text/x-python",
   "name": "python",
   "nbconvert_exporter": "python",
   "pygments_lexer": "ipython3",
   "version": "3.10.9"
  }
 },
 "nbformat": 4,
 "nbformat_minor": 5
}
