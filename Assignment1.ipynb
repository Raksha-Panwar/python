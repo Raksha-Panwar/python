{
 "cells": [
  {
   "cell_type": "code",
   "execution_count": 6,
   "id": "8b60580d",
   "metadata": {},
   "outputs": [
    {
     "name": "stdout",
     "output_type": "stream",
     "text": [
      "<class 'tuple'>\n"
     ]
    }
   ],
   "source": [
    "#Create a tuple called data with two values, (1, 2) and (3, 4)\n",
    "\n",
    "data = ((1,2),(3,4))\n",
    "print(type(data))"
   ]
  },
  {
   "cell_type": "code",
   "execution_count": 25,
   "id": "3e263d1e",
   "metadata": {
    "scrolled": true
   },
   "outputs": [
    {
     "name": "stdout",
     "output_type": "stream",
     "text": [
      "[4, 3, 2, 1]\n",
      "<class 'list'>\n"
     ]
    }
   ],
   "source": [
    "#Create the list [4, 3, 2, 1] and assign it to variable numbers\n",
    "\n",
    "l1=[4, 3, 2, 1]\n",
    "numbers=l1\n",
    "print(numbers)\n",
    "print(type(numbers))"
   ]
  },
  {
   "cell_type": "code",
   "execution_count": 26,
   "id": "4c09cb15",
   "metadata": {
    "scrolled": true
   },
   "outputs": [
    {
     "name": "stdout",
     "output_type": "stream",
     "text": [
      "[4, 3, 2, 1]\n"
     ]
    }
   ],
   "source": [
    "#Create a copy of the number list using [:]\n",
    "\n",
    "numberscopy=numbers[:]\n",
    "print(numberscopy)"
   ]
  },
  {
   "cell_type": "code",
   "execution_count": 27,
   "id": "de221239",
   "metadata": {},
   "outputs": [
    {
     "name": "stdout",
     "output_type": "stream",
     "text": [
      "[1, 2, 3, 4]\n"
     ]
    }
   ],
   "source": [
    "#Sort the numbers list in numerical order\n",
    "\n",
    "numbers.sort()\n",
    "print(numbers)"
   ]
  },
  {
   "cell_type": "code",
   "execution_count": 3,
   "id": "51edb8df",
   "metadata": {
    "scrolled": true
   },
   "outputs": [
    {
     "name": "stdout",
     "output_type": "stream",
     "text": [
      "<class 'tuple'>\n"
     ]
    }
   ],
   "source": [
    "#Create a tuple \"cardinal_numbers\" with \"first\", \"second\" and \"third\"\n",
    "\n",
    "cardinal_numbers=(\"first\",\"second\",\"third\")\n",
    "print(type(cardinal_numbers))"
   ]
  },
  {
   "cell_type": "code",
   "execution_count": 4,
   "id": "a3b60798",
   "metadata": {
    "scrolled": true
   },
   "outputs": [
    {
     "name": "stdout",
     "output_type": "stream",
     "text": [
      "second\n"
     ]
    }
   ],
   "source": [
    "#Display the second object in the tuple\n",
    "\n",
    "print(cardinal_numbers[1])"
   ]
  },
  {
   "cell_type": "code",
   "execution_count": 5,
   "id": "1b440128",
   "metadata": {},
   "outputs": [
    {
     "name": "stdout",
     "output_type": "stream",
     "text": [
      "first second third\n",
      "<class 'str'> <class 'str'> <class 'str'>\n"
     ]
    }
   ],
   "source": [
    "#Unpack the tuple into three strings and display them\n",
    "\n",
    "one,two,three=cardinal_numbers\n",
    "print(one, two, three)\n",
    "print(type(one), type(two), type(three))"
   ]
  },
  {
   "cell_type": "code",
   "execution_count": 1,
   "id": "fc29be11",
   "metadata": {},
   "outputs": [
    {
     "name": "stdout",
     "output_type": "stream",
     "text": [
      "('r', 'a', 'k', 's', 'h', 'a')\n",
      "<class 'tuple'>\n"
     ]
    }
   ],
   "source": [
    "#Create a tuple containing the letters of your name from a string\n",
    "\n",
    "str=\"raksha\"\n",
    "my_name=tuple(str)\n",
    "print(my_name)\n",
    "print(type(my_name))"
   ]
  },
  {
   "cell_type": "code",
   "execution_count": 29,
   "id": "00923ca3",
   "metadata": {},
   "outputs": [
    {
     "data": {
      "text/plain": [
       "False"
      ]
     },
     "execution_count": 29,
     "metadata": {},
     "output_type": "execute_result"
    }
   ],
   "source": [
    "#Check whether or not x is in my_name\n",
    "\n",
    "'x' in my_name"
   ]
  },
  {
   "cell_type": "code",
   "execution_count": 22,
   "id": "778d461b",
   "metadata": {},
   "outputs": [
    {
     "data": {
      "text/plain": [
       "True"
      ]
     },
     "execution_count": 22,
     "metadata": {},
     "output_type": "execute_result"
    }
   ],
   "source": [
    "#Check whether or not s is in my_name\n",
    "\n",
    "'s' in my_name"
   ]
  },
  {
   "cell_type": "code",
   "execution_count": null,
   "id": "d7cb3e23",
   "metadata": {},
   "outputs": [],
   "source": []
  }
 ],
 "metadata": {
  "kernelspec": {
   "display_name": "Python 3 (ipykernel)",
   "language": "python",
   "name": "python3"
  },
  "language_info": {
   "codemirror_mode": {
    "name": "ipython",
    "version": 3
   },
   "file_extension": ".py",
   "mimetype": "text/x-python",
   "name": "python",
   "nbconvert_exporter": "python",
   "pygments_lexer": "ipython3",
   "version": "3.10.9"
  }
 },
 "nbformat": 4,
 "nbformat_minor": 5
}
