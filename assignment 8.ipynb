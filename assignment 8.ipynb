{
 "cells": [
  {
   "cell_type": "markdown",
   "metadata": {},
   "source": [
    "# 1.Import necessary packages"
   ]
  },
  {
   "cell_type": "code",
   "execution_count": 2,
   "metadata": {},
   "outputs": [],
   "source": [
    "import numpy as np\n",
    "import pandas as pd\n",
    "import matplotlib.pyplot as plt\n",
    "%matplotlib inline\n",
    "import seaborn as sns\n",
    "import warnings\n",
    "warnings.filterwarnings(\"ignore\")\n",
    "from scipy.stats import f_oneway"
   ]
  },
  {
   "cell_type": "markdown",
   "metadata": {},
   "source": [
    "# 2.Load the file"
   ]
  },
  {
   "cell_type": "code",
   "execution_count": 3,
   "metadata": {},
   "outputs": [
    {
     "data": {
      "text/html": [
       "<div>\n",
       "<style scoped>\n",
       "    .dataframe tbody tr th:only-of-type {\n",
       "        vertical-align: middle;\n",
       "    }\n",
       "\n",
       "    .dataframe tbody tr th {\n",
       "        vertical-align: top;\n",
       "    }\n",
       "\n",
       "    .dataframe thead th {\n",
       "        text-align: right;\n",
       "    }\n",
       "</style>\n",
       "<table border=\"1\" class=\"dataframe\">\n",
       "  <thead>\n",
       "    <tr style=\"text-align: right;\">\n",
       "      <th></th>\n",
       "      <th>Mthly_HH_Income</th>\n",
       "      <th>Mthly_HH_Expense</th>\n",
       "      <th>No_of_Fly_Members</th>\n",
       "      <th>Emi_or_Rent_Amt</th>\n",
       "      <th>Annual_HH_Income</th>\n",
       "      <th>Highest_Qualified_Member</th>\n",
       "      <th>No_of_Earning_Members</th>\n",
       "    </tr>\n",
       "  </thead>\n",
       "  <tbody>\n",
       "    <tr>\n",
       "      <th>0</th>\n",
       "      <td>5000</td>\n",
       "      <td>8000</td>\n",
       "      <td>3</td>\n",
       "      <td>2000</td>\n",
       "      <td>64200</td>\n",
       "      <td>Under-Graduate</td>\n",
       "      <td>1</td>\n",
       "    </tr>\n",
       "    <tr>\n",
       "      <th>1</th>\n",
       "      <td>6000</td>\n",
       "      <td>7000</td>\n",
       "      <td>2</td>\n",
       "      <td>3000</td>\n",
       "      <td>79920</td>\n",
       "      <td>Illiterate</td>\n",
       "      <td>1</td>\n",
       "    </tr>\n",
       "    <tr>\n",
       "      <th>2</th>\n",
       "      <td>10000</td>\n",
       "      <td>4500</td>\n",
       "      <td>2</td>\n",
       "      <td>0</td>\n",
       "      <td>112800</td>\n",
       "      <td>Under-Graduate</td>\n",
       "      <td>1</td>\n",
       "    </tr>\n",
       "    <tr>\n",
       "      <th>3</th>\n",
       "      <td>10000</td>\n",
       "      <td>2000</td>\n",
       "      <td>1</td>\n",
       "      <td>0</td>\n",
       "      <td>97200</td>\n",
       "      <td>Illiterate</td>\n",
       "      <td>1</td>\n",
       "    </tr>\n",
       "    <tr>\n",
       "      <th>4</th>\n",
       "      <td>12500</td>\n",
       "      <td>12000</td>\n",
       "      <td>2</td>\n",
       "      <td>3000</td>\n",
       "      <td>147000</td>\n",
       "      <td>Graduate</td>\n",
       "      <td>1</td>\n",
       "    </tr>\n",
       "    <tr>\n",
       "      <th>5</th>\n",
       "      <td>14000</td>\n",
       "      <td>8000</td>\n",
       "      <td>2</td>\n",
       "      <td>0</td>\n",
       "      <td>196560</td>\n",
       "      <td>Graduate</td>\n",
       "      <td>1</td>\n",
       "    </tr>\n",
       "    <tr>\n",
       "      <th>6</th>\n",
       "      <td>15000</td>\n",
       "      <td>16000</td>\n",
       "      <td>3</td>\n",
       "      <td>35000</td>\n",
       "      <td>167400</td>\n",
       "      <td>Post-Graduate</td>\n",
       "      <td>1</td>\n",
       "    </tr>\n",
       "    <tr>\n",
       "      <th>7</th>\n",
       "      <td>18000</td>\n",
       "      <td>20000</td>\n",
       "      <td>5</td>\n",
       "      <td>8000</td>\n",
       "      <td>216000</td>\n",
       "      <td>Graduate</td>\n",
       "      <td>1</td>\n",
       "    </tr>\n",
       "    <tr>\n",
       "      <th>8</th>\n",
       "      <td>19000</td>\n",
       "      <td>9000</td>\n",
       "      <td>2</td>\n",
       "      <td>0</td>\n",
       "      <td>218880</td>\n",
       "      <td>Under-Graduate</td>\n",
       "      <td>1</td>\n",
       "    </tr>\n",
       "    <tr>\n",
       "      <th>9</th>\n",
       "      <td>20000</td>\n",
       "      <td>9000</td>\n",
       "      <td>4</td>\n",
       "      <td>0</td>\n",
       "      <td>220800</td>\n",
       "      <td>Under-Graduate</td>\n",
       "      <td>2</td>\n",
       "    </tr>\n",
       "    <tr>\n",
       "      <th>10</th>\n",
       "      <td>20000</td>\n",
       "      <td>18000</td>\n",
       "      <td>4</td>\n",
       "      <td>8000</td>\n",
       "      <td>278400</td>\n",
       "      <td>Under-Graduate</td>\n",
       "      <td>2</td>\n",
       "    </tr>\n",
       "    <tr>\n",
       "      <th>11</th>\n",
       "      <td>22000</td>\n",
       "      <td>25000</td>\n",
       "      <td>6</td>\n",
       "      <td>12000</td>\n",
       "      <td>279840</td>\n",
       "      <td>Illiterate</td>\n",
       "      <td>1</td>\n",
       "    </tr>\n",
       "    <tr>\n",
       "      <th>12</th>\n",
       "      <td>23400</td>\n",
       "      <td>5000</td>\n",
       "      <td>3</td>\n",
       "      <td>0</td>\n",
       "      <td>292032</td>\n",
       "      <td>Illiterate</td>\n",
       "      <td>1</td>\n",
       "    </tr>\n",
       "    <tr>\n",
       "      <th>13</th>\n",
       "      <td>24000</td>\n",
       "      <td>10500</td>\n",
       "      <td>6</td>\n",
       "      <td>0</td>\n",
       "      <td>316800</td>\n",
       "      <td>Graduate</td>\n",
       "      <td>2</td>\n",
       "    </tr>\n",
       "    <tr>\n",
       "      <th>14</th>\n",
       "      <td>24000</td>\n",
       "      <td>10000</td>\n",
       "      <td>4</td>\n",
       "      <td>0</td>\n",
       "      <td>244800</td>\n",
       "      <td>Graduate</td>\n",
       "      <td>2</td>\n",
       "    </tr>\n",
       "    <tr>\n",
       "      <th>15</th>\n",
       "      <td>25000</td>\n",
       "      <td>12300</td>\n",
       "      <td>3</td>\n",
       "      <td>0</td>\n",
       "      <td>246000</td>\n",
       "      <td>Graduate</td>\n",
       "      <td>1</td>\n",
       "    </tr>\n",
       "    <tr>\n",
       "      <th>16</th>\n",
       "      <td>25000</td>\n",
       "      <td>20000</td>\n",
       "      <td>3</td>\n",
       "      <td>3500</td>\n",
       "      <td>261000</td>\n",
       "      <td>Graduate</td>\n",
       "      <td>1</td>\n",
       "    </tr>\n",
       "    <tr>\n",
       "      <th>17</th>\n",
       "      <td>25000</td>\n",
       "      <td>10000</td>\n",
       "      <td>6</td>\n",
       "      <td>0</td>\n",
       "      <td>258000</td>\n",
       "      <td>Under-Graduate</td>\n",
       "      <td>3</td>\n",
       "    </tr>\n",
       "    <tr>\n",
       "      <th>18</th>\n",
       "      <td>29000</td>\n",
       "      <td>6600</td>\n",
       "      <td>2</td>\n",
       "      <td>2000</td>\n",
       "      <td>348000</td>\n",
       "      <td>Graduate</td>\n",
       "      <td>1</td>\n",
       "    </tr>\n",
       "    <tr>\n",
       "      <th>19</th>\n",
       "      <td>30000</td>\n",
       "      <td>13000</td>\n",
       "      <td>4</td>\n",
       "      <td>0</td>\n",
       "      <td>385200</td>\n",
       "      <td>Graduate</td>\n",
       "      <td>1</td>\n",
       "    </tr>\n",
       "    <tr>\n",
       "      <th>20</th>\n",
       "      <td>30500</td>\n",
       "      <td>25000</td>\n",
       "      <td>5</td>\n",
       "      <td>5000</td>\n",
       "      <td>351360</td>\n",
       "      <td>Under-Graduate</td>\n",
       "      <td>1</td>\n",
       "    </tr>\n",
       "    <tr>\n",
       "      <th>21</th>\n",
       "      <td>32000</td>\n",
       "      <td>15000</td>\n",
       "      <td>4</td>\n",
       "      <td>0</td>\n",
       "      <td>445440</td>\n",
       "      <td>Professional</td>\n",
       "      <td>1</td>\n",
       "    </tr>\n",
       "    <tr>\n",
       "      <th>22</th>\n",
       "      <td>34000</td>\n",
       "      <td>19000</td>\n",
       "      <td>6</td>\n",
       "      <td>0</td>\n",
       "      <td>330480</td>\n",
       "      <td>Professional</td>\n",
       "      <td>1</td>\n",
       "    </tr>\n",
       "    <tr>\n",
       "      <th>23</th>\n",
       "      <td>34000</td>\n",
       "      <td>25000</td>\n",
       "      <td>3</td>\n",
       "      <td>4000</td>\n",
       "      <td>469200</td>\n",
       "      <td>Professional</td>\n",
       "      <td>1</td>\n",
       "    </tr>\n",
       "    <tr>\n",
       "      <th>24</th>\n",
       "      <td>35000</td>\n",
       "      <td>12000</td>\n",
       "      <td>3</td>\n",
       "      <td>0</td>\n",
       "      <td>466200</td>\n",
       "      <td>Graduate</td>\n",
       "      <td>1</td>\n",
       "    </tr>\n",
       "    <tr>\n",
       "      <th>25</th>\n",
       "      <td>35000</td>\n",
       "      <td>25000</td>\n",
       "      <td>4</td>\n",
       "      <td>0</td>\n",
       "      <td>449400</td>\n",
       "      <td>Professional</td>\n",
       "      <td>2</td>\n",
       "    </tr>\n",
       "    <tr>\n",
       "      <th>26</th>\n",
       "      <td>39000</td>\n",
       "      <td>8000</td>\n",
       "      <td>4</td>\n",
       "      <td>0</td>\n",
       "      <td>556920</td>\n",
       "      <td>Under-Graduate</td>\n",
       "      <td>1</td>\n",
       "    </tr>\n",
       "    <tr>\n",
       "      <th>27</th>\n",
       "      <td>40000</td>\n",
       "      <td>10000</td>\n",
       "      <td>4</td>\n",
       "      <td>0</td>\n",
       "      <td>412800</td>\n",
       "      <td>Under-Graduate</td>\n",
       "      <td>1</td>\n",
       "    </tr>\n",
       "    <tr>\n",
       "      <th>28</th>\n",
       "      <td>42000</td>\n",
       "      <td>15000</td>\n",
       "      <td>4</td>\n",
       "      <td>0</td>\n",
       "      <td>488880</td>\n",
       "      <td>Graduate</td>\n",
       "      <td>1</td>\n",
       "    </tr>\n",
       "    <tr>\n",
       "      <th>29</th>\n",
       "      <td>43000</td>\n",
       "      <td>12000</td>\n",
       "      <td>4</td>\n",
       "      <td>0</td>\n",
       "      <td>619200</td>\n",
       "      <td>Graduate</td>\n",
       "      <td>1</td>\n",
       "    </tr>\n",
       "    <tr>\n",
       "      <th>30</th>\n",
       "      <td>45000</td>\n",
       "      <td>25000</td>\n",
       "      <td>6</td>\n",
       "      <td>0</td>\n",
       "      <td>523800</td>\n",
       "      <td>Graduate</td>\n",
       "      <td>3</td>\n",
       "    </tr>\n",
       "    <tr>\n",
       "      <th>31</th>\n",
       "      <td>45000</td>\n",
       "      <td>40000</td>\n",
       "      <td>6</td>\n",
       "      <td>3500</td>\n",
       "      <td>507600</td>\n",
       "      <td>Professional</td>\n",
       "      <td>2</td>\n",
       "    </tr>\n",
       "    <tr>\n",
       "      <th>32</th>\n",
       "      <td>45000</td>\n",
       "      <td>10000</td>\n",
       "      <td>2</td>\n",
       "      <td>1000</td>\n",
       "      <td>437400</td>\n",
       "      <td>Post-Graduate</td>\n",
       "      <td>1</td>\n",
       "    </tr>\n",
       "    <tr>\n",
       "      <th>33</th>\n",
       "      <td>45000</td>\n",
       "      <td>22000</td>\n",
       "      <td>4</td>\n",
       "      <td>2500</td>\n",
       "      <td>610200</td>\n",
       "      <td>Post-Graduate</td>\n",
       "      <td>1</td>\n",
       "    </tr>\n",
       "    <tr>\n",
       "      <th>34</th>\n",
       "      <td>46000</td>\n",
       "      <td>25000</td>\n",
       "      <td>5</td>\n",
       "      <td>3500</td>\n",
       "      <td>596160</td>\n",
       "      <td>Graduate</td>\n",
       "      <td>1</td>\n",
       "    </tr>\n",
       "    <tr>\n",
       "      <th>35</th>\n",
       "      <td>47000</td>\n",
       "      <td>15000</td>\n",
       "      <td>7</td>\n",
       "      <td>0</td>\n",
       "      <td>456840</td>\n",
       "      <td>Professional</td>\n",
       "      <td>4</td>\n",
       "    </tr>\n",
       "    <tr>\n",
       "      <th>36</th>\n",
       "      <td>50000</td>\n",
       "      <td>20000</td>\n",
       "      <td>4</td>\n",
       "      <td>0</td>\n",
       "      <td>570000</td>\n",
       "      <td>Professional</td>\n",
       "      <td>1</td>\n",
       "    </tr>\n",
       "    <tr>\n",
       "      <th>37</th>\n",
       "      <td>50500</td>\n",
       "      <td>20000</td>\n",
       "      <td>3</td>\n",
       "      <td>0</td>\n",
       "      <td>581760</td>\n",
       "      <td>Professional</td>\n",
       "      <td>2</td>\n",
       "    </tr>\n",
       "    <tr>\n",
       "      <th>38</th>\n",
       "      <td>55000</td>\n",
       "      <td>45000</td>\n",
       "      <td>6</td>\n",
       "      <td>12000</td>\n",
       "      <td>600600</td>\n",
       "      <td>Graduate</td>\n",
       "      <td>2</td>\n",
       "    </tr>\n",
       "    <tr>\n",
       "      <th>39</th>\n",
       "      <td>60000</td>\n",
       "      <td>10000</td>\n",
       "      <td>3</td>\n",
       "      <td>0</td>\n",
       "      <td>590400</td>\n",
       "      <td>Post-Graduate</td>\n",
       "      <td>1</td>\n",
       "    </tr>\n",
       "    <tr>\n",
       "      <th>40</th>\n",
       "      <td>60000</td>\n",
       "      <td>50000</td>\n",
       "      <td>6</td>\n",
       "      <td>10000</td>\n",
       "      <td>590400</td>\n",
       "      <td>Graduate</td>\n",
       "      <td>1</td>\n",
       "    </tr>\n",
       "    <tr>\n",
       "      <th>41</th>\n",
       "      <td>65000</td>\n",
       "      <td>20000</td>\n",
       "      <td>4</td>\n",
       "      <td>5000</td>\n",
       "      <td>647400</td>\n",
       "      <td>Illiterate</td>\n",
       "      <td>2</td>\n",
       "    </tr>\n",
       "    <tr>\n",
       "      <th>42</th>\n",
       "      <td>70000</td>\n",
       "      <td>9000</td>\n",
       "      <td>2</td>\n",
       "      <td>0</td>\n",
       "      <td>756000</td>\n",
       "      <td>Graduate</td>\n",
       "      <td>1</td>\n",
       "    </tr>\n",
       "    <tr>\n",
       "      <th>43</th>\n",
       "      <td>80000</td>\n",
       "      <td>20000</td>\n",
       "      <td>4</td>\n",
       "      <td>0</td>\n",
       "      <td>1075200</td>\n",
       "      <td>Graduate</td>\n",
       "      <td>1</td>\n",
       "    </tr>\n",
       "    <tr>\n",
       "      <th>44</th>\n",
       "      <td>85000</td>\n",
       "      <td>25000</td>\n",
       "      <td>5</td>\n",
       "      <td>0</td>\n",
       "      <td>1142400</td>\n",
       "      <td>Under-Graduate</td>\n",
       "      <td>2</td>\n",
       "    </tr>\n",
       "    <tr>\n",
       "      <th>45</th>\n",
       "      <td>90000</td>\n",
       "      <td>48000</td>\n",
       "      <td>7</td>\n",
       "      <td>0</td>\n",
       "      <td>885600</td>\n",
       "      <td>Post-Graduate</td>\n",
       "      <td>3</td>\n",
       "    </tr>\n",
       "    <tr>\n",
       "      <th>46</th>\n",
       "      <td>98000</td>\n",
       "      <td>25000</td>\n",
       "      <td>5</td>\n",
       "      <td>0</td>\n",
       "      <td>1152480</td>\n",
       "      <td>Professional</td>\n",
       "      <td>2</td>\n",
       "    </tr>\n",
       "    <tr>\n",
       "      <th>47</th>\n",
       "      <td>100000</td>\n",
       "      <td>30000</td>\n",
       "      <td>6</td>\n",
       "      <td>0</td>\n",
       "      <td>1404000</td>\n",
       "      <td>Graduate</td>\n",
       "      <td>3</td>\n",
       "    </tr>\n",
       "    <tr>\n",
       "      <th>48</th>\n",
       "      <td>100000</td>\n",
       "      <td>50000</td>\n",
       "      <td>4</td>\n",
       "      <td>20000</td>\n",
       "      <td>1032000</td>\n",
       "      <td>Professional</td>\n",
       "      <td>2</td>\n",
       "    </tr>\n",
       "    <tr>\n",
       "      <th>49</th>\n",
       "      <td>100000</td>\n",
       "      <td>40000</td>\n",
       "      <td>6</td>\n",
       "      <td>10000</td>\n",
       "      <td>1320000</td>\n",
       "      <td>Post-Graduate</td>\n",
       "      <td>1</td>\n",
       "    </tr>\n",
       "  </tbody>\n",
       "</table>\n",
       "</div>"
      ],
      "text/plain": [
       "    Mthly_HH_Income  Mthly_HH_Expense  No_of_Fly_Members  Emi_or_Rent_Amt  \\\n",
       "0              5000              8000                  3             2000   \n",
       "1              6000              7000                  2             3000   \n",
       "2             10000              4500                  2                0   \n",
       "3             10000              2000                  1                0   \n",
       "4             12500             12000                  2             3000   \n",
       "5             14000              8000                  2                0   \n",
       "6             15000             16000                  3            35000   \n",
       "7             18000             20000                  5             8000   \n",
       "8             19000              9000                  2                0   \n",
       "9             20000              9000                  4                0   \n",
       "10            20000             18000                  4             8000   \n",
       "11            22000             25000                  6            12000   \n",
       "12            23400              5000                  3                0   \n",
       "13            24000             10500                  6                0   \n",
       "14            24000             10000                  4                0   \n",
       "15            25000             12300                  3                0   \n",
       "16            25000             20000                  3             3500   \n",
       "17            25000             10000                  6                0   \n",
       "18            29000              6600                  2             2000   \n",
       "19            30000             13000                  4                0   \n",
       "20            30500             25000                  5             5000   \n",
       "21            32000             15000                  4                0   \n",
       "22            34000             19000                  6                0   \n",
       "23            34000             25000                  3             4000   \n",
       "24            35000             12000                  3                0   \n",
       "25            35000             25000                  4                0   \n",
       "26            39000              8000                  4                0   \n",
       "27            40000             10000                  4                0   \n",
       "28            42000             15000                  4                0   \n",
       "29            43000             12000                  4                0   \n",
       "30            45000             25000                  6                0   \n",
       "31            45000             40000                  6             3500   \n",
       "32            45000             10000                  2             1000   \n",
       "33            45000             22000                  4             2500   \n",
       "34            46000             25000                  5             3500   \n",
       "35            47000             15000                  7                0   \n",
       "36            50000             20000                  4                0   \n",
       "37            50500             20000                  3                0   \n",
       "38            55000             45000                  6            12000   \n",
       "39            60000             10000                  3                0   \n",
       "40            60000             50000                  6            10000   \n",
       "41            65000             20000                  4             5000   \n",
       "42            70000              9000                  2                0   \n",
       "43            80000             20000                  4                0   \n",
       "44            85000             25000                  5                0   \n",
       "45            90000             48000                  7                0   \n",
       "46            98000             25000                  5                0   \n",
       "47           100000             30000                  6                0   \n",
       "48           100000             50000                  4            20000   \n",
       "49           100000             40000                  6            10000   \n",
       "\n",
       "    Annual_HH_Income Highest_Qualified_Member  No_of_Earning_Members  \n",
       "0              64200           Under-Graduate                      1  \n",
       "1              79920               Illiterate                      1  \n",
       "2             112800           Under-Graduate                      1  \n",
       "3              97200               Illiterate                      1  \n",
       "4             147000                 Graduate                      1  \n",
       "5             196560                 Graduate                      1  \n",
       "6             167400            Post-Graduate                      1  \n",
       "7             216000                 Graduate                      1  \n",
       "8             218880           Under-Graduate                      1  \n",
       "9             220800           Under-Graduate                      2  \n",
       "10            278400           Under-Graduate                      2  \n",
       "11            279840               Illiterate                      1  \n",
       "12            292032               Illiterate                      1  \n",
       "13            316800                 Graduate                      2  \n",
       "14            244800                 Graduate                      2  \n",
       "15            246000                 Graduate                      1  \n",
       "16            261000                 Graduate                      1  \n",
       "17            258000           Under-Graduate                      3  \n",
       "18            348000                 Graduate                      1  \n",
       "19            385200                 Graduate                      1  \n",
       "20            351360           Under-Graduate                      1  \n",
       "21            445440             Professional                      1  \n",
       "22            330480             Professional                      1  \n",
       "23            469200             Professional                      1  \n",
       "24            466200                 Graduate                      1  \n",
       "25            449400             Professional                      2  \n",
       "26            556920           Under-Graduate                      1  \n",
       "27            412800           Under-Graduate                      1  \n",
       "28            488880                 Graduate                      1  \n",
       "29            619200                 Graduate                      1  \n",
       "30            523800                 Graduate                      3  \n",
       "31            507600             Professional                      2  \n",
       "32            437400            Post-Graduate                      1  \n",
       "33            610200            Post-Graduate                      1  \n",
       "34            596160                 Graduate                      1  \n",
       "35            456840             Professional                      4  \n",
       "36            570000             Professional                      1  \n",
       "37            581760             Professional                      2  \n",
       "38            600600                 Graduate                      2  \n",
       "39            590400            Post-Graduate                      1  \n",
       "40            590400                 Graduate                      1  \n",
       "41            647400               Illiterate                      2  \n",
       "42            756000                 Graduate                      1  \n",
       "43           1075200                 Graduate                      1  \n",
       "44           1142400           Under-Graduate                      2  \n",
       "45            885600            Post-Graduate                      3  \n",
       "46           1152480             Professional                      2  \n",
       "47           1404000                 Graduate                      3  \n",
       "48           1032000             Professional                      2  \n",
       "49           1320000            Post-Graduate                      1  "
      ]
     },
     "execution_count": 3,
     "metadata": {},
     "output_type": "execute_result"
    }
   ],
   "source": [
    "df=pd.read_csv(\"Inc_Exp_Data.csv\")\n",
    "df"
   ]
  },
  {
   "cell_type": "markdown",
   "metadata": {},
   "source": [
    "# 3.Analyze the data"
   ]
  },
  {
   "cell_type": "code",
   "execution_count": 5,
   "metadata": {},
   "outputs": [
    {
     "data": {
      "text/html": [
       "<div>\n",
       "<style scoped>\n",
       "    .dataframe tbody tr th:only-of-type {\n",
       "        vertical-align: middle;\n",
       "    }\n",
       "\n",
       "    .dataframe tbody tr th {\n",
       "        vertical-align: top;\n",
       "    }\n",
       "\n",
       "    .dataframe thead th {\n",
       "        text-align: right;\n",
       "    }\n",
       "</style>\n",
       "<table border=\"1\" class=\"dataframe\">\n",
       "  <thead>\n",
       "    <tr style=\"text-align: right;\">\n",
       "      <th></th>\n",
       "      <th>Mthly_HH_Income</th>\n",
       "      <th>Mthly_HH_Expense</th>\n",
       "      <th>No_of_Fly_Members</th>\n",
       "      <th>Emi_or_Rent_Amt</th>\n",
       "      <th>Annual_HH_Income</th>\n",
       "      <th>Highest_Qualified_Member</th>\n",
       "      <th>No_of_Earning_Members</th>\n",
       "    </tr>\n",
       "  </thead>\n",
       "  <tbody>\n",
       "    <tr>\n",
       "      <th>count</th>\n",
       "      <td>50.000000</td>\n",
       "      <td>50.000000</td>\n",
       "      <td>50.000000</td>\n",
       "      <td>50.000000</td>\n",
       "      <td>5.000000e+01</td>\n",
       "      <td>50</td>\n",
       "      <td>50.000000</td>\n",
       "    </tr>\n",
       "    <tr>\n",
       "      <th>unique</th>\n",
       "      <td>NaN</td>\n",
       "      <td>NaN</td>\n",
       "      <td>NaN</td>\n",
       "      <td>NaN</td>\n",
       "      <td>NaN</td>\n",
       "      <td>5</td>\n",
       "      <td>NaN</td>\n",
       "    </tr>\n",
       "    <tr>\n",
       "      <th>top</th>\n",
       "      <td>NaN</td>\n",
       "      <td>NaN</td>\n",
       "      <td>NaN</td>\n",
       "      <td>NaN</td>\n",
       "      <td>NaN</td>\n",
       "      <td>Graduate</td>\n",
       "      <td>NaN</td>\n",
       "    </tr>\n",
       "    <tr>\n",
       "      <th>freq</th>\n",
       "      <td>NaN</td>\n",
       "      <td>NaN</td>\n",
       "      <td>NaN</td>\n",
       "      <td>NaN</td>\n",
       "      <td>NaN</td>\n",
       "      <td>19</td>\n",
       "      <td>NaN</td>\n",
       "    </tr>\n",
       "    <tr>\n",
       "      <th>mean</th>\n",
       "      <td>41558.000000</td>\n",
       "      <td>18818.000000</td>\n",
       "      <td>4.060000</td>\n",
       "      <td>3060.000000</td>\n",
       "      <td>4.900190e+05</td>\n",
       "      <td>NaN</td>\n",
       "      <td>1.460000</td>\n",
       "    </tr>\n",
       "    <tr>\n",
       "      <th>std</th>\n",
       "      <td>26097.908979</td>\n",
       "      <td>12090.216824</td>\n",
       "      <td>1.517382</td>\n",
       "      <td>6241.434948</td>\n",
       "      <td>3.201358e+05</td>\n",
       "      <td>NaN</td>\n",
       "      <td>0.734291</td>\n",
       "    </tr>\n",
       "    <tr>\n",
       "      <th>min</th>\n",
       "      <td>5000.000000</td>\n",
       "      <td>2000.000000</td>\n",
       "      <td>1.000000</td>\n",
       "      <td>0.000000</td>\n",
       "      <td>6.420000e+04</td>\n",
       "      <td>NaN</td>\n",
       "      <td>1.000000</td>\n",
       "    </tr>\n",
       "    <tr>\n",
       "      <th>25%</th>\n",
       "      <td>23550.000000</td>\n",
       "      <td>10000.000000</td>\n",
       "      <td>3.000000</td>\n",
       "      <td>0.000000</td>\n",
       "      <td>2.587500e+05</td>\n",
       "      <td>NaN</td>\n",
       "      <td>1.000000</td>\n",
       "    </tr>\n",
       "    <tr>\n",
       "      <th>50%</th>\n",
       "      <td>35000.000000</td>\n",
       "      <td>15500.000000</td>\n",
       "      <td>4.000000</td>\n",
       "      <td>0.000000</td>\n",
       "      <td>4.474200e+05</td>\n",
       "      <td>NaN</td>\n",
       "      <td>1.000000</td>\n",
       "    </tr>\n",
       "    <tr>\n",
       "      <th>75%</th>\n",
       "      <td>50375.000000</td>\n",
       "      <td>25000.000000</td>\n",
       "      <td>5.000000</td>\n",
       "      <td>3500.000000</td>\n",
       "      <td>5.947200e+05</td>\n",
       "      <td>NaN</td>\n",
       "      <td>2.000000</td>\n",
       "    </tr>\n",
       "    <tr>\n",
       "      <th>max</th>\n",
       "      <td>100000.000000</td>\n",
       "      <td>50000.000000</td>\n",
       "      <td>7.000000</td>\n",
       "      <td>35000.000000</td>\n",
       "      <td>1.404000e+06</td>\n",
       "      <td>NaN</td>\n",
       "      <td>4.000000</td>\n",
       "    </tr>\n",
       "  </tbody>\n",
       "</table>\n",
       "</div>"
      ],
      "text/plain": [
       "        Mthly_HH_Income  Mthly_HH_Expense  No_of_Fly_Members  Emi_or_Rent_Amt  \\\n",
       "count         50.000000         50.000000          50.000000        50.000000   \n",
       "unique              NaN               NaN                NaN              NaN   \n",
       "top                 NaN               NaN                NaN              NaN   \n",
       "freq                NaN               NaN                NaN              NaN   \n",
       "mean       41558.000000      18818.000000           4.060000      3060.000000   \n",
       "std        26097.908979      12090.216824           1.517382      6241.434948   \n",
       "min         5000.000000       2000.000000           1.000000         0.000000   \n",
       "25%        23550.000000      10000.000000           3.000000         0.000000   \n",
       "50%        35000.000000      15500.000000           4.000000         0.000000   \n",
       "75%        50375.000000      25000.000000           5.000000      3500.000000   \n",
       "max       100000.000000      50000.000000           7.000000     35000.000000   \n",
       "\n",
       "        Annual_HH_Income Highest_Qualified_Member  No_of_Earning_Members  \n",
       "count       5.000000e+01                       50              50.000000  \n",
       "unique               NaN                        5                    NaN  \n",
       "top                  NaN                 Graduate                    NaN  \n",
       "freq                 NaN                       19                    NaN  \n",
       "mean        4.900190e+05                      NaN               1.460000  \n",
       "std         3.201358e+05                      NaN               0.734291  \n",
       "min         6.420000e+04                      NaN               1.000000  \n",
       "25%         2.587500e+05                      NaN               1.000000  \n",
       "50%         4.474200e+05                      NaN               1.000000  \n",
       "75%         5.947200e+05                      NaN               2.000000  \n",
       "max         1.404000e+06                      NaN               4.000000  "
      ]
     },
     "execution_count": 5,
     "metadata": {},
     "output_type": "execute_result"
    }
   ],
   "source": [
    "df.describe(include='all')"
   ]
  },
  {
   "cell_type": "code",
   "execution_count": 23,
   "metadata": {},
   "outputs": [
    {
     "data": {
      "text/plain": [
       "(50, 7)"
      ]
     },
     "execution_count": 23,
     "metadata": {},
     "output_type": "execute_result"
    }
   ],
   "source": [
    "df.shape"
   ]
  },
  {
   "cell_type": "code",
   "execution_count": 25,
   "metadata": {},
   "outputs": [
    {
     "data": {
      "text/plain": [
       "Mthly_HH_Income              int64\n",
       "Mthly_HH_Expense             int64\n",
       "No_of_Fly_Members            int64\n",
       "Emi_or_Rent_Amt              int64\n",
       "Annual_HH_Income             int64\n",
       "Highest_Qualified_Member    object\n",
       "No_of_Earning_Members        int64\n",
       "dtype: object"
      ]
     },
     "execution_count": 25,
     "metadata": {},
     "output_type": "execute_result"
    }
   ],
   "source": [
    "df.dtypes"
   ]
  },
  {
   "cell_type": "code",
   "execution_count": 26,
   "metadata": {},
   "outputs": [
    {
     "data": {
      "text/plain": [
       "Mthly_HH_Income             0\n",
       "Mthly_HH_Expense            0\n",
       "No_of_Fly_Members           0\n",
       "Emi_or_Rent_Amt             0\n",
       "Annual_HH_Income            0\n",
       "Highest_Qualified_Member    0\n",
       "No_of_Earning_Members       0\n",
       "dtype: int64"
      ]
     },
     "execution_count": 26,
     "metadata": {},
     "output_type": "execute_result"
    }
   ],
   "source": [
    "df.isnull().sum()"
   ]
  },
  {
   "cell_type": "markdown",
   "metadata": {},
   "source": [
    "# 4.What is the Mean Expense of a Household?"
   ]
  },
  {
   "cell_type": "code",
   "execution_count": 86,
   "metadata": {},
   "outputs": [
    {
     "data": {
      "text/plain": [
       "18818.0"
      ]
     },
     "execution_count": 86,
     "metadata": {},
     "output_type": "execute_result"
    }
   ],
   "source": [
    "# np.mean(df['Mthly_HH_Expense'])\n",
    "\n",
    "df['Mthly_HH_Expense'].mean()"
   ]
  },
  {
   "cell_type": "markdown",
   "metadata": {},
   "source": [
    "\n",
    "# 5.What is the Median Household Expense?"
   ]
  },
  {
   "cell_type": "code",
   "execution_count": 85,
   "metadata": {},
   "outputs": [
    {
     "data": {
      "text/plain": [
       "15500.0"
      ]
     },
     "execution_count": 85,
     "metadata": {},
     "output_type": "execute_result"
    }
   ],
   "source": [
    "# np.median(df['Mthly_HH_Expense'])\n",
    "\n",
    "df['Mthly_HH_Expense'].median()"
   ]
  },
  {
   "cell_type": "markdown",
   "metadata": {},
   "source": [
    "# 6.What is the Monthly Expense for most of the Households?"
   ]
  },
  {
   "cell_type": "code",
   "execution_count": 8,
   "metadata": {},
   "outputs": [
    {
     "data": {
      "text/plain": [
       "0    25000\n",
       "Name: Mthly_HH_Expense, dtype: int64"
      ]
     },
     "execution_count": 8,
     "metadata": {},
     "output_type": "execute_result"
    }
   ],
   "source": [
    "# values, counts = np.unique(df['Mthly_HH_Expense'], return_counts=True)\n",
    "# values[counts.argmax()]\n",
    "\n",
    "\n",
    "df['Mthly_HH_Expense'].mode()"
   ]
  },
  {
   "cell_type": "markdown",
   "metadata": {},
   "source": [
    "# 7.Plot the Histogram to count the Highest qualified member. \n",
    "### change the order of bar graphs (descending order)\n",
    "### Highest in green color and lowest in red color"
   ]
  },
  {
   "cell_type": "code",
   "execution_count": 81,
   "metadata": {},
   "outputs": [
    {
     "data": {
      "text/plain": [
       "<Axes: xlabel='Highest_Qualified_Member', ylabel='count'>"
      ]
     },
     "execution_count": 81,
     "metadata": {},
     "output_type": "execute_result"
    },
    {
     "data": {
      "image/png": "[encoded data removed]",
      "text/plain": [
       "<Figure size 640x480 with 1 Axes>"
      ]
     },
     "metadata": {},
     "output_type": "display_data"
    }
   ],
   "source": [
    "color=['green','pink','yellow','violet', 'red']\n",
    "sns.countplot(data=df,x='Highest_Qualified_Member' , palette=color, order=df['Highest_Qualified_Member'].value_counts().index)"
   ]
  },
  {
   "cell_type": "code",
   "execution_count": 15,
   "metadata": {},
   "outputs": [
    {
     "data": {
      "text/plain": [
       "Graduate          19\n",
       "Under-Graduate    10\n",
       "Professional      10\n",
       "Post-Graduate      6\n",
       "Illiterate         5\n",
       "Name: Highest_Qualified_Member, dtype: int64"
      ]
     },
     "execution_count": 15,
     "metadata": {},
     "output_type": "execute_result"
    }
   ],
   "source": [
    "df['Highest_Qualified_Member'].value_counts()"
   ]
  },
  {
   "cell_type": "markdown",
   "metadata": {},
   "source": [
    "# 8.Calculate IQR(difference between 75% and 25% quartile)"
   ]
  },
  {
   "cell_type": "code",
   "execution_count": 43,
   "metadata": {},
   "outputs": [
    {
     "data": {
      "text/plain": [
       "Mthly_HH_Income           26825.0\n",
       "Mthly_HH_Expense          15000.0\n",
       "No_of_Fly_Members             2.0\n",
       "Emi_or_Rent_Amt            3500.0\n",
       "Annual_HH_Income         335970.0\n",
       "No_of_Earning_Members         1.0\n",
       "dtype: float64"
      ]
     },
     "execution_count": 43,
     "metadata": {},
     "output_type": "execute_result"
    }
   ],
   "source": [
    "q1=df.quantile(0.25)\n",
    "q3=df.quantile(0.75)\n",
    "iqr=q3-q1\n",
    "iqr"
   ]
  },
  {
   "cell_type": "markdown",
   "metadata": {},
   "source": [
    "# 9.Calculate Standard Deviation for first 4 columns."
   ]
  },
  {
   "cell_type": "code",
   "execution_count": 87,
   "metadata": {},
   "outputs": [
    {
     "data": {
      "text/plain": [
       "Mthly_HH_Income      26097.908979\n",
       "Mthly_HH_Expense     12090.216824\n",
       "No_of_Fly_Members        1.517382\n",
       "Emi_or_Rent_Amt       6241.434948\n",
       "dtype: float64"
      ]
     },
     "execution_count": 87,
     "metadata": {},
     "output_type": "execute_result"
    }
   ],
   "source": [
    "# np.std(df)[:4]\n",
    "\n",
    "df.std()[:4]"
   ]
  },
  {
   "cell_type": "markdown",
   "metadata": {},
   "source": [
    "# 10.Calculate Variance for first 3 columns."
   ]
  },
  {
   "cell_type": "code",
   "execution_count": 88,
   "metadata": {},
   "outputs": [
    {
     "data": {
      "text/plain": [
       "Mthly_HH_Income      6.811009e+08\n",
       "Mthly_HH_Expense     1.461733e+08\n",
       "No_of_Fly_Members    2.302449e+00\n",
       "dtype: float64"
      ]
     },
     "execution_count": 88,
     "metadata": {},
     "output_type": "execute_result"
    }
   ],
   "source": [
    "# np.var(df)[:3]\n",
    "\n",
    "df.var()[:3]"
   ]
  },
  {
   "cell_type": "markdown",
   "metadata": {},
   "source": [
    "# 11.Calculate the count of Highest qualified member."
   ]
  },
  {
   "cell_type": "code",
   "execution_count": 29,
   "metadata": {},
   "outputs": [
    {
     "data": {
      "text/plain": [
       "19"
      ]
     },
     "execution_count": 29,
     "metadata": {},
     "output_type": "execute_result"
    }
   ],
   "source": [
    "df['Highest_Qualified_Member'].value_counts().max()"
   ]
  },
  {
   "cell_type": "markdown",
   "metadata": {},
   "source": [
    "# 12.Plot the Histogram to count the No_of_Earning_Members"
   ]
  },
  {
   "cell_type": "code",
   "execution_count": 34,
   "metadata": {},
   "outputs": [
    {
     "data": {
      "image/png": "[encoded data removed]",
      "text/plain": [
       "<Figure size 640x480 with 1 Axes>"
      ]
     },
     "metadata": {},
     "output_type": "display_data"
    }
   ],
   "source": [
    "plt.hist(x='No_of_Earning_Members' ,data=df)\n",
    "plt.ylabel('total count')\n",
    "plt.xlabel('No_of_Earning_Members')\n",
    "plt.show()"
   ]
  },
  {
   "cell_type": "code",
   "execution_count": 41,
   "metadata": {},
   "outputs": [
    {
     "data": {
      "text/plain": [
       "1    33\n",
       "2    12\n",
       "3     4\n",
       "4     1\n",
       "Name: No_of_Earning_Members, dtype: int64"
      ]
     },
     "execution_count": 41,
     "metadata": {},
     "output_type": "execute_result"
    }
   ],
   "source": [
    "df['No_of_Earning_Members'].value_counts()"
   ]
  },
  {
   "cell_type": "markdown",
   "metadata": {},
   "source": [
    "# 13.Suppose you have option to invest in Stock A or Stock B. The stocks • have different expected returns and standard deviations. The expected return of Stock A is 15% and Stock B is 10%. Standard Deviation of the returns of these stocks is 10% and 5% respectively.\n",
    "\n",
    "Which is better investment?"
   ]
  },
  {
   "cell_type": "markdown",
   "metadata": {},
   "source": [
    "#### Stock A has an expected return of 15% and a standard deviation of 10%, while Stock B has an expected return of 10% and a standard deviation of 5%  i.e, Stock A has a higher expected return than Stock B, but it also has a higher level of risk than B. \n",
    "# Therefore, Stock B is safer and better investment than Stock A"
   ]
  },
  {
   "cell_type": "code",
   "execution_count": null,
   "metadata": {},
   "outputs": [],
   "source": []
  }
 ],
 "metadata": {
  "kernelspec": {
   "display_name": "Python 3 (ipykernel)",
   "language": "python",
   "name": "python3"
  },
  "language_info": {
   "codemirror_mode": {
    "name": "ipython",
    "version": 3
   },
   "file_extension": ".py",
   "mimetype": "text/x-python",
   "name": "python",
   "nbconvert_exporter": "python",
   "pygments_lexer": "ipython3",
   "version": "3.10.9"
  }
 },
 "nbformat": 4,
 "nbformat_minor": 2
}
